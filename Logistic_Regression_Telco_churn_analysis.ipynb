{
  "nbformat": 4,
  "nbformat_minor": 0,
  "metadata": {
    "colab": {
      "name": "Logistic_Regression - Telco churn analysis.ipynb",
      "provenance": [],
      "collapsed_sections": [],
      "mount_file_id": "1PNf9nxwwBawkmX2aWEAB2v5hZznaTB7y",
      "authorship_tag": "ABX9TyO7aAjp7YghlU8oec7qLxQs",
      "include_colab_link": true
    },
    "kernelspec": {
      "name": "python3",
      "display_name": "Python 3"
    },
    "language_info": {
      "name": "python"
    },
    "widgets": {
      "application/vnd.jupyter.widget-state+json": {
        "b37df59bd8bc445d8547dd4401925f82": {
          "model_module": "@jupyter-widgets/controls",
          "model_name": "HBoxModel",
          "state": {
            "_view_name": "HBoxView",
            "_dom_classes": [],
            "_model_name": "HBoxModel",
            "_view_module": "@jupyter-widgets/controls",
            "_model_module_version": "1.5.0",
            "_view_count": null,
            "_view_module_version": "1.5.0",
            "box_style": "",
            "layout": "IPY_MODEL_a90bfcbc74024b2fbf771debb26d5cc3",
            "_model_module": "@jupyter-widgets/controls",
            "children": [
              "IPY_MODEL_734bae80fa3e4ff78c3464a01c403c4d",
              "IPY_MODEL_be0c3ee5ae2144818e33f60eef645b41",
              "IPY_MODEL_6fd74870512c4e328d186167ce971d7f"
            ]
          }
        },
        "a90bfcbc74024b2fbf771debb26d5cc3": {
          "model_module": "@jupyter-widgets/base",
          "model_name": "LayoutModel",
          "state": {
            "_view_name": "LayoutView",
            "grid_template_rows": null,
            "right": null,
            "justify_content": null,
            "_view_module": "@jupyter-widgets/base",
            "overflow": null,
            "_model_module_version": "1.2.0",
            "_view_count": null,
            "flex_flow": "row wrap",
            "width": "100%",
            "min_width": null,
            "border": null,
            "align_items": null,
            "bottom": null,
            "_model_module": "@jupyter-widgets/base",
            "top": null,
            "grid_column": null,
            "overflow_y": null,
            "overflow_x": null,
            "grid_auto_flow": null,
            "grid_area": null,
            "grid_template_columns": null,
            "flex": null,
            "_model_name": "LayoutModel",
            "justify_items": null,
            "grid_row": null,
            "max_height": null,
            "align_content": null,
            "visibility": null,
            "align_self": null,
            "height": null,
            "min_height": null,
            "padding": null,
            "grid_auto_rows": null,
            "grid_gap": null,
            "max_width": null,
            "order": null,
            "_view_module_version": "1.2.0",
            "grid_template_areas": null,
            "object_position": null,
            "object_fit": null,
            "grid_auto_columns": null,
            "margin": null,
            "display": "inline-flex",
            "left": null
          }
        },
        "734bae80fa3e4ff78c3464a01c403c4d": {
          "model_module": "@jupyter-widgets/controls",
          "model_name": "HTMLModel",
          "state": {
            "_view_name": "HTMLView",
            "style": "IPY_MODEL_f4bdc40081ef4dfea55f28368ccf9c81",
            "_dom_classes": [],
            "description": "",
            "_model_name": "HTMLModel",
            "placeholder": "​",
            "_view_module": "@jupyter-widgets/controls",
            "_model_module_version": "1.5.0",
            "value": "Done! Use &#x27;show&#x27; commands to display/save.   ",
            "_view_count": null,
            "_view_module_version": "1.5.0",
            "description_tooltip": null,
            "_model_module": "@jupyter-widgets/controls",
            "layout": "IPY_MODEL_9d7b185473e0437696188143abddd95c"
          }
        },
        "be0c3ee5ae2144818e33f60eef645b41": {
          "model_module": "@jupyter-widgets/controls",
          "model_name": "FloatProgressModel",
          "state": {
            "_view_name": "ProgressView",
            "style": "IPY_MODEL_7c7646ccf3e6467791a9abcb1da22a91",
            "_dom_classes": [],
            "description": "",
            "_model_name": "FloatProgressModel",
            "bar_style": "success",
            "max": 1,
            "_view_module": "@jupyter-widgets/controls",
            "_model_module_version": "1.5.0",
            "value": 1,
            "_view_count": null,
            "_view_module_version": "1.5.0",
            "orientation": "horizontal",
            "min": 0,
            "description_tooltip": null,
            "_model_module": "@jupyter-widgets/controls",
            "layout": "IPY_MODEL_a3d435304e1f4d4cb9ed8073735e5299"
          }
        },
        "6fd74870512c4e328d186167ce971d7f": {
          "model_module": "@jupyter-widgets/controls",
          "model_name": "HTMLModel",
          "state": {
            "_view_name": "HTMLView",
            "style": "IPY_MODEL_1ac5f0657a8d4bdc9d60d910d96ee8b9",
            "_dom_classes": [],
            "description": "",
            "_model_name": "HTMLModel",
            "placeholder": "​",
            "_view_module": "@jupyter-widgets/controls",
            "_model_module_version": "1.5.0",
            "value": " [100%]   00:01 -&gt; (00:00 left)",
            "_view_count": null,
            "_view_module_version": "1.5.0",
            "description_tooltip": null,
            "_model_module": "@jupyter-widgets/controls",
            "layout": "IPY_MODEL_d986e768303643c7a1930e9cd61aff43"
          }
        },
        "f4bdc40081ef4dfea55f28368ccf9c81": {
          "model_module": "@jupyter-widgets/controls",
          "model_name": "DescriptionStyleModel",
          "state": {
            "_view_name": "StyleView",
            "_model_name": "DescriptionStyleModel",
            "description_width": "",
            "_view_module": "@jupyter-widgets/base",
            "_model_module_version": "1.5.0",
            "_view_count": null,
            "_view_module_version": "1.2.0",
            "_model_module": "@jupyter-widgets/controls"
          }
        },
        "9d7b185473e0437696188143abddd95c": {
          "model_module": "@jupyter-widgets/base",
          "model_name": "LayoutModel",
          "state": {
            "_view_name": "LayoutView",
            "grid_template_rows": null,
            "right": null,
            "justify_content": null,
            "_view_module": "@jupyter-widgets/base",
            "overflow": null,
            "_model_module_version": "1.2.0",
            "_view_count": null,
            "flex_flow": null,
            "width": null,
            "min_width": null,
            "border": null,
            "align_items": null,
            "bottom": null,
            "_model_module": "@jupyter-widgets/base",
            "top": null,
            "grid_column": null,
            "overflow_y": null,
            "overflow_x": null,
            "grid_auto_flow": null,
            "grid_area": null,
            "grid_template_columns": null,
            "flex": null,
            "_model_name": "LayoutModel",
            "justify_items": null,
            "grid_row": null,
            "max_height": null,
            "align_content": null,
            "visibility": null,
            "align_self": null,
            "height": null,
            "min_height": null,
            "padding": null,
            "grid_auto_rows": null,
            "grid_gap": null,
            "max_width": null,
            "order": null,
            "_view_module_version": "1.2.0",
            "grid_template_areas": null,
            "object_position": null,
            "object_fit": null,
            "grid_auto_columns": null,
            "margin": null,
            "display": null,
            "left": null
          }
        },
        "7c7646ccf3e6467791a9abcb1da22a91": {
          "model_module": "@jupyter-widgets/controls",
          "model_name": "ProgressStyleModel",
          "state": {
            "_view_name": "StyleView",
            "_model_name": "ProgressStyleModel",
            "description_width": "",
            "_view_module": "@jupyter-widgets/base",
            "_model_module_version": "1.5.0",
            "_view_count": null,
            "_view_module_version": "1.2.0",
            "bar_color": null,
            "_model_module": "@jupyter-widgets/controls"
          }
        },
        "a3d435304e1f4d4cb9ed8073735e5299": {
          "model_module": "@jupyter-widgets/base",
          "model_name": "LayoutModel",
          "state": {
            "_view_name": "LayoutView",
            "grid_template_rows": null,
            "right": null,
            "justify_content": null,
            "_view_module": "@jupyter-widgets/base",
            "overflow": null,
            "_model_module_version": "1.2.0",
            "_view_count": null,
            "flex_flow": null,
            "width": null,
            "min_width": null,
            "border": null,
            "align_items": null,
            "bottom": null,
            "_model_module": "@jupyter-widgets/base",
            "top": null,
            "grid_column": null,
            "overflow_y": null,
            "overflow_x": null,
            "grid_auto_flow": null,
            "grid_area": null,
            "grid_template_columns": null,
            "flex": "2",
            "_model_name": "LayoutModel",
            "justify_items": null,
            "grid_row": null,
            "max_height": null,
            "align_content": null,
            "visibility": null,
            "align_self": null,
            "height": null,
            "min_height": null,
            "padding": null,
            "grid_auto_rows": null,
            "grid_gap": null,
            "max_width": null,
            "order": null,
            "_view_module_version": "1.2.0",
            "grid_template_areas": null,
            "object_position": null,
            "object_fit": null,
            "grid_auto_columns": null,
            "margin": null,
            "display": null,
            "left": null
          }
        },
        "1ac5f0657a8d4bdc9d60d910d96ee8b9": {
          "model_module": "@jupyter-widgets/controls",
          "model_name": "DescriptionStyleModel",
          "state": {
            "_view_name": "StyleView",
            "_model_name": "DescriptionStyleModel",
            "description_width": "",
            "_view_module": "@jupyter-widgets/base",
            "_model_module_version": "1.5.0",
            "_view_count": null,
            "_view_module_version": "1.2.0",
            "_model_module": "@jupyter-widgets/controls"
          }
        },
        "d986e768303643c7a1930e9cd61aff43": {
          "model_module": "@jupyter-widgets/base",
          "model_name": "LayoutModel",
          "state": {
            "_view_name": "LayoutView",
            "grid_template_rows": null,
            "right": null,
            "justify_content": null,
            "_view_module": "@jupyter-widgets/base",
            "overflow": null,
            "_model_module_version": "1.2.0",
            "_view_count": null,
            "flex_flow": null,
            "width": null,
            "min_width": null,
            "border": null,
            "align_items": null,
            "bottom": null,
            "_model_module": "@jupyter-widgets/base",
            "top": null,
            "grid_column": null,
            "overflow_y": null,
            "overflow_x": null,
            "grid_auto_flow": null,
            "grid_area": null,
            "grid_template_columns": null,
            "flex": null,
            "_model_name": "LayoutModel",
            "justify_items": null,
            "grid_row": null,
            "max_height": null,
            "align_content": null,
            "visibility": null,
            "align_self": null,
            "height": null,
            "min_height": null,
            "padding": null,
            "grid_auto_rows": null,
            "grid_gap": null,
            "max_width": null,
            "order": null,
            "_view_module_version": "1.2.0",
            "grid_template_areas": null,
            "object_position": null,
            "object_fit": null,
            "grid_auto_columns": null,
            "margin": null,
            "display": null,
            "left": null
          }
        }
      }
    }
  },
  "cells": [
    {
      "cell_type": "markdown",
      "metadata": {
        "id": "view-in-github",
        "colab_type": "text"
      },
      "source": [
        "<a href=\"https://colab.research.google.com/github/ravirajgm/Raviraj_Data_Science_Case_Studies/blob/main/Logistic_Regression_Telco_churn_analysis.ipynb\" target=\"_parent\"><img src=\"https://colab.research.google.com/assets/colab-badge.svg\" alt=\"Open In Colab\"/></a>"
      ]
    },
    {
      "cell_type": "markdown",
      "metadata": {
        "id": "k-dOD2HyGfTM"
      },
      "source": [
        "Telecom case study to explore Logistic Regression and do churn analysis. The concept of Information Value [IV] and Weight of Evidence has been explored in detail. \n",
        "WoE = ln(%non-events/%events)\n",
        "IV = Summation((%non-events - %events)*WoE)"
      ]
    },
    {
      "cell_type": "code",
      "metadata": {
        "id": "7aP2CzUlgNtw"
      },
      "source": [
        "pip install sweetviz"
      ],
      "execution_count": null,
      "outputs": []
    },
    {
      "cell_type": "code",
      "metadata": {
        "id": "cpdNLpEAGa7p"
      },
      "source": [
        "import numpy as np\n",
        "import pandas as pd\n",
        "from sklearn.model_selection import train_test_split    \n",
        "from sklearn.metrics import accuracy_score,classification_report\n",
        "import matplotlib.pyplot as plt\n",
        "import seaborn as sns\n",
        "from pandas.api.types import is_numeric_dtype\n",
        "import pandas_profiling as pp\n",
        "import sweetviz as sv"
      ],
      "execution_count": 3,
      "outputs": []
    },
    {
      "cell_type": "code",
      "metadata": {
        "colab": {
          "base_uri": "https://localhost:8080/",
          "height": 305
        },
        "id": "NgX6sVZxG8vi",
        "outputId": "ca85a414-af59-4f12-c6d1-c89a98ea93eb"
      },
      "source": [
        "#Load the Telco data for one month\n",
        "telcodf = pd.read_csv('/content/drive/MyDrive/Colab Notebooks/Data/WA_Fn-UseC_-Telco-Customer-Churn.csv')\n",
        "telcodf.columns = [c[0].lower() + c[1:] for c in telcodf.columns]\n",
        "telcodf['seniorCitizen'] = telcodf['seniorCitizen'].map({1:'Yes',0:'No'})\n",
        "telcodf['label'] = telcodf['churn'].map({'Yes':1,'No':0})\n",
        "telcodf['totalCharges'] = pd.to_numeric(telcodf['totalCharges'],errors='coerce')\n",
        "telcodf.tail(5)\n"
      ],
      "execution_count": 10,
      "outputs": [
        {
          "output_type": "execute_result",
          "data": {
            "text/html": [
              "<div>\n",
              "<style scoped>\n",
              "    .dataframe tbody tr th:only-of-type {\n",
              "        vertical-align: middle;\n",
              "    }\n",
              "\n",
              "    .dataframe tbody tr th {\n",
              "        vertical-align: top;\n",
              "    }\n",
              "\n",
              "    .dataframe thead th {\n",
              "        text-align: right;\n",
              "    }\n",
              "</style>\n",
              "<table border=\"1\" class=\"dataframe\">\n",
              "  <thead>\n",
              "    <tr style=\"text-align: right;\">\n",
              "      <th></th>\n",
              "      <th>customerID</th>\n",
              "      <th>gender</th>\n",
              "      <th>seniorCitizen</th>\n",
              "      <th>partner</th>\n",
              "      <th>dependents</th>\n",
              "      <th>tenure</th>\n",
              "      <th>phoneService</th>\n",
              "      <th>multipleLines</th>\n",
              "      <th>internetService</th>\n",
              "      <th>onlineSecurity</th>\n",
              "      <th>onlineBackup</th>\n",
              "      <th>deviceProtection</th>\n",
              "      <th>techSupport</th>\n",
              "      <th>streamingTV</th>\n",
              "      <th>streamingMovies</th>\n",
              "      <th>contract</th>\n",
              "      <th>paperlessBilling</th>\n",
              "      <th>paymentMethod</th>\n",
              "      <th>monthlyCharges</th>\n",
              "      <th>totalCharges</th>\n",
              "      <th>churn</th>\n",
              "      <th>label</th>\n",
              "    </tr>\n",
              "  </thead>\n",
              "  <tbody>\n",
              "    <tr>\n",
              "      <th>7038</th>\n",
              "      <td>6840-RESVB</td>\n",
              "      <td>Male</td>\n",
              "      <td>No</td>\n",
              "      <td>Yes</td>\n",
              "      <td>Yes</td>\n",
              "      <td>24</td>\n",
              "      <td>Yes</td>\n",
              "      <td>Yes</td>\n",
              "      <td>DSL</td>\n",
              "      <td>Yes</td>\n",
              "      <td>No</td>\n",
              "      <td>Yes</td>\n",
              "      <td>Yes</td>\n",
              "      <td>Yes</td>\n",
              "      <td>Yes</td>\n",
              "      <td>One year</td>\n",
              "      <td>Yes</td>\n",
              "      <td>Mailed check</td>\n",
              "      <td>84.80</td>\n",
              "      <td>1990.50</td>\n",
              "      <td>No</td>\n",
              "      <td>0</td>\n",
              "    </tr>\n",
              "    <tr>\n",
              "      <th>7039</th>\n",
              "      <td>2234-XADUH</td>\n",
              "      <td>Female</td>\n",
              "      <td>No</td>\n",
              "      <td>Yes</td>\n",
              "      <td>Yes</td>\n",
              "      <td>72</td>\n",
              "      <td>Yes</td>\n",
              "      <td>Yes</td>\n",
              "      <td>Fiber optic</td>\n",
              "      <td>No</td>\n",
              "      <td>Yes</td>\n",
              "      <td>Yes</td>\n",
              "      <td>No</td>\n",
              "      <td>Yes</td>\n",
              "      <td>Yes</td>\n",
              "      <td>One year</td>\n",
              "      <td>Yes</td>\n",
              "      <td>Credit card (automatic)</td>\n",
              "      <td>103.20</td>\n",
              "      <td>7362.90</td>\n",
              "      <td>No</td>\n",
              "      <td>0</td>\n",
              "    </tr>\n",
              "    <tr>\n",
              "      <th>7040</th>\n",
              "      <td>4801-JZAZL</td>\n",
              "      <td>Female</td>\n",
              "      <td>No</td>\n",
              "      <td>Yes</td>\n",
              "      <td>Yes</td>\n",
              "      <td>11</td>\n",
              "      <td>No</td>\n",
              "      <td>No phone service</td>\n",
              "      <td>DSL</td>\n",
              "      <td>Yes</td>\n",
              "      <td>No</td>\n",
              "      <td>No</td>\n",
              "      <td>No</td>\n",
              "      <td>No</td>\n",
              "      <td>No</td>\n",
              "      <td>Month-to-month</td>\n",
              "      <td>Yes</td>\n",
              "      <td>Electronic check</td>\n",
              "      <td>29.60</td>\n",
              "      <td>346.45</td>\n",
              "      <td>No</td>\n",
              "      <td>0</td>\n",
              "    </tr>\n",
              "    <tr>\n",
              "      <th>7041</th>\n",
              "      <td>8361-LTMKD</td>\n",
              "      <td>Male</td>\n",
              "      <td>Yes</td>\n",
              "      <td>Yes</td>\n",
              "      <td>No</td>\n",
              "      <td>4</td>\n",
              "      <td>Yes</td>\n",
              "      <td>Yes</td>\n",
              "      <td>Fiber optic</td>\n",
              "      <td>No</td>\n",
              "      <td>No</td>\n",
              "      <td>No</td>\n",
              "      <td>No</td>\n",
              "      <td>No</td>\n",
              "      <td>No</td>\n",
              "      <td>Month-to-month</td>\n",
              "      <td>Yes</td>\n",
              "      <td>Mailed check</td>\n",
              "      <td>74.40</td>\n",
              "      <td>306.60</td>\n",
              "      <td>Yes</td>\n",
              "      <td>1</td>\n",
              "    </tr>\n",
              "    <tr>\n",
              "      <th>7042</th>\n",
              "      <td>3186-AJIEK</td>\n",
              "      <td>Male</td>\n",
              "      <td>No</td>\n",
              "      <td>No</td>\n",
              "      <td>No</td>\n",
              "      <td>66</td>\n",
              "      <td>Yes</td>\n",
              "      <td>No</td>\n",
              "      <td>Fiber optic</td>\n",
              "      <td>Yes</td>\n",
              "      <td>No</td>\n",
              "      <td>Yes</td>\n",
              "      <td>Yes</td>\n",
              "      <td>Yes</td>\n",
              "      <td>Yes</td>\n",
              "      <td>Two year</td>\n",
              "      <td>Yes</td>\n",
              "      <td>Bank transfer (automatic)</td>\n",
              "      <td>105.65</td>\n",
              "      <td>6844.50</td>\n",
              "      <td>No</td>\n",
              "      <td>0</td>\n",
              "    </tr>\n",
              "  </tbody>\n",
              "</table>\n",
              "</div>"
            ],
            "text/plain": [
              "      customerID  gender seniorCitizen  ... totalCharges churn  label\n",
              "7038  6840-RESVB    Male            No  ...      1990.50    No      0\n",
              "7039  2234-XADUH  Female            No  ...      7362.90    No      0\n",
              "7040  4801-JZAZL  Female            No  ...       346.45    No      0\n",
              "7041  8361-LTMKD    Male           Yes  ...       306.60   Yes      1\n",
              "7042  3186-AJIEK    Male            No  ...      6844.50    No      0\n",
              "\n",
              "[5 rows x 22 columns]"
            ]
          },
          "metadata": {
            "tags": []
          },
          "execution_count": 10
        }
      ]
    },
    {
      "cell_type": "code",
      "metadata": {
        "colab": {
          "base_uri": "https://localhost:8080/",
          "height": 294
        },
        "id": "cob22i0m-WGC",
        "outputId": "4039b29c-df92-4230-d229-417b03031326"
      },
      "source": [
        "telcodf.describe()"
      ],
      "execution_count": 62,
      "outputs": [
        {
          "output_type": "execute_result",
          "data": {
            "text/html": [
              "<div>\n",
              "<style scoped>\n",
              "    .dataframe tbody tr th:only-of-type {\n",
              "        vertical-align: middle;\n",
              "    }\n",
              "\n",
              "    .dataframe tbody tr th {\n",
              "        vertical-align: top;\n",
              "    }\n",
              "\n",
              "    .dataframe thead th {\n",
              "        text-align: right;\n",
              "    }\n",
              "</style>\n",
              "<table border=\"1\" class=\"dataframe\">\n",
              "  <thead>\n",
              "    <tr style=\"text-align: right;\">\n",
              "      <th></th>\n",
              "      <th>tenure</th>\n",
              "      <th>monthlyCharges</th>\n",
              "      <th>totalCharges</th>\n",
              "      <th>label</th>\n",
              "    </tr>\n",
              "  </thead>\n",
              "  <tbody>\n",
              "    <tr>\n",
              "      <th>count</th>\n",
              "      <td>7043.000000</td>\n",
              "      <td>7043.000000</td>\n",
              "      <td>7032.000000</td>\n",
              "      <td>7043.000000</td>\n",
              "    </tr>\n",
              "    <tr>\n",
              "      <th>mean</th>\n",
              "      <td>32.371149</td>\n",
              "      <td>64.761692</td>\n",
              "      <td>2283.300441</td>\n",
              "      <td>0.265370</td>\n",
              "    </tr>\n",
              "    <tr>\n",
              "      <th>std</th>\n",
              "      <td>24.559481</td>\n",
              "      <td>30.090047</td>\n",
              "      <td>2266.771362</td>\n",
              "      <td>0.441561</td>\n",
              "    </tr>\n",
              "    <tr>\n",
              "      <th>min</th>\n",
              "      <td>0.000000</td>\n",
              "      <td>18.250000</td>\n",
              "      <td>18.800000</td>\n",
              "      <td>0.000000</td>\n",
              "    </tr>\n",
              "    <tr>\n",
              "      <th>25%</th>\n",
              "      <td>9.000000</td>\n",
              "      <td>35.500000</td>\n",
              "      <td>401.450000</td>\n",
              "      <td>0.000000</td>\n",
              "    </tr>\n",
              "    <tr>\n",
              "      <th>50%</th>\n",
              "      <td>29.000000</td>\n",
              "      <td>70.350000</td>\n",
              "      <td>1397.475000</td>\n",
              "      <td>0.000000</td>\n",
              "    </tr>\n",
              "    <tr>\n",
              "      <th>75%</th>\n",
              "      <td>55.000000</td>\n",
              "      <td>89.850000</td>\n",
              "      <td>3794.737500</td>\n",
              "      <td>1.000000</td>\n",
              "    </tr>\n",
              "    <tr>\n",
              "      <th>max</th>\n",
              "      <td>72.000000</td>\n",
              "      <td>118.750000</td>\n",
              "      <td>8684.800000</td>\n",
              "      <td>1.000000</td>\n",
              "    </tr>\n",
              "  </tbody>\n",
              "</table>\n",
              "</div>"
            ],
            "text/plain": [
              "            tenure  monthlyCharges  totalCharges        label\n",
              "count  7043.000000     7043.000000   7032.000000  7043.000000\n",
              "mean     32.371149       64.761692   2283.300441     0.265370\n",
              "std      24.559481       30.090047   2266.771362     0.441561\n",
              "min       0.000000       18.250000     18.800000     0.000000\n",
              "25%       9.000000       35.500000    401.450000     0.000000\n",
              "50%      29.000000       70.350000   1397.475000     0.000000\n",
              "75%      55.000000       89.850000   3794.737500     1.000000\n",
              "max      72.000000      118.750000   8684.800000     1.000000"
            ]
          },
          "metadata": {
            "tags": []
          },
          "execution_count": 62
        }
      ]
    },
    {
      "cell_type": "code",
      "metadata": {
        "colab": {
          "base_uri": "https://localhost:8080/",
          "height": 66,
          "referenced_widgets": [
            "b37df59bd8bc445d8547dd4401925f82",
            "a90bfcbc74024b2fbf771debb26d5cc3",
            "734bae80fa3e4ff78c3464a01c403c4d",
            "be0c3ee5ae2144818e33f60eef645b41",
            "6fd74870512c4e328d186167ce971d7f",
            "f4bdc40081ef4dfea55f28368ccf9c81",
            "9d7b185473e0437696188143abddd95c",
            "7c7646ccf3e6467791a9abcb1da22a91",
            "a3d435304e1f4d4cb9ed8073735e5299",
            "1ac5f0657a8d4bdc9d60d910d96ee8b9",
            "d986e768303643c7a1930e9cd61aff43"
          ]
        },
        "id": "LDBT2-_eG8tS",
        "outputId": "da31b243-67cc-43b5-84c2-3c8520815682"
      },
      "source": [
        "sweetviz_report = sv.analyze([telcodf,'data'],target_feat='label')\n",
        "sweetviz_report.show_html('viz.html')"
      ],
      "execution_count": 7,
      "outputs": [
        {
          "output_type": "display_data",
          "data": {
            "application/vnd.jupyter.widget-view+json": {
              "model_id": "b37df59bd8bc445d8547dd4401925f82",
              "version_minor": 0,
              "version_major": 2
            },
            "text/plain": [
              "                                             |          | [  0%]   00:00 -> (? left)"
            ]
          },
          "metadata": {
            "tags": []
          }
        },
        {
          "output_type": "stream",
          "text": [
            "Report viz.html was generated! NOTEBOOK/COLAB USERS: the web browser MAY not pop up, regardless, the report IS saved in your notebook/colab files.\n"
          ],
          "name": "stdout"
        }
      ]
    },
    {
      "cell_type": "markdown",
      "metadata": {
        "id": "oNhuVwsZh8h7"
      },
      "source": [
        "Based on the EDA from sweetviz the following highlights are taken forward:\n",
        "1. The ratio of male & female customers is almost the same with partner associated with almost everyone\n",
        "2. The senior citizens are around 16% of the total data\n",
        "3. Less than 30% of the customers have dependents\n",
        "4. The average tenure of customer is 32 months\n",
        "5. The Electronic paying customers are more than the other payment methods\n",
        "6. The monthly charges average around $65\n",
        "7. The month-to-month contract has the highest customer group - more than 60%\n",
        "8. More than 25% of the customers have the churn labelled as 1"
      ]
    },
    {
      "cell_type": "markdown",
      "metadata": {
        "id": "ajDxLPgCkwV4"
      },
      "source": [
        "Function to calculate the Information Value"
      ]
    },
    {
      "cell_type": "code",
      "metadata": {
        "id": "qpqLxJW1yn_a"
      },
      "source": [
        "def iv_woe(data, target, bins=10, show_woe=False):\n",
        "    \n",
        "    #Empty Dataframe\n",
        "    newDF,woeDF = pd.DataFrame(), pd.DataFrame()\n",
        "    \n",
        "    #Extract Column Names\n",
        "    cols = data.columns\n",
        "    \n",
        "    #Run WOE and IV on all the independent variables\n",
        "    for ivars in cols[~cols.isin([target])]:\n",
        "        if (data[ivars].dtype.kind in 'bifc') and (len(np.unique(data[ivars]))>10):\n",
        "            binned_x = pd.qcut(data[ivars], bins,  duplicates='drop')\n",
        "            d0 = pd.DataFrame({'x': binned_x, 'y': data[target]})\n",
        "        else:\n",
        "            d0 = pd.DataFrame({'x': data[ivars], 'y': data[target]})\n",
        "        d = d0.groupby(\"x\", as_index=False).agg({\"y\": [\"count\", \"sum\"]})\n",
        "        d.columns = ['Cutoff', 'N', 'Events']\n",
        "        d['% of Events'] = np.maximum(d['Events'], 0.5) / d['Events'].sum()\n",
        "        d['Non-Events'] = d['N'] - d['Events']\n",
        "        d['% of Non-Events'] = np.maximum(d['Non-Events'], 0.5) / d['Non-Events'].sum()\n",
        "        d['WoE'] = np.log(d['% of Events']/d['% of Non-Events'])\n",
        "        d['IV'] = d['WoE'] * (d['% of Events'] - d['% of Non-Events'])\n",
        "        d.insert(loc=0, column='Variable', value=ivars)\n",
        "        print(\"Information value of \" + ivars + \" is \" + str(round(d['IV'].sum(),6)))\n",
        "        temp =pd.DataFrame({\"Variable\" : [ivars], \"IV\" : [d['IV'].sum()]}, columns = [\"Variable\", \"IV\"])\n",
        "        newDF=pd.concat([newDF,temp], axis=0)\n",
        "        woeDF=pd.concat([woeDF,d], axis=0)\n",
        "\n",
        "        #Show WOE Table\n",
        "        if show_woe == True:\n",
        "            print(d)\n",
        "    return newDF, woeDF"
      ],
      "execution_count": 31,
      "outputs": []
    },
    {
      "cell_type": "code",
      "metadata": {
        "colab": {
          "base_uri": "https://localhost:8080/"
        },
        "id": "qOOyUw9ezp2b",
        "outputId": "d62c51df-1b42-4f40-f3c9-73bc034f5541"
      },
      "source": [
        "iv_woe(data=telcodf,target='label')"
      ],
      "execution_count": 35,
      "outputs": [
        {
          "output_type": "stream",
          "text": [
            "Information value of gender is 0.00038\n",
            "Information value of seniorCitizen is 0.105621\n",
            "Information value of partner is 0.118729\n",
            "Information value of dependents is 0.155488\n",
            "Information value of tenure is 0.823712\n",
            "Information value of phoneService is 0.000745\n",
            "Information value of multipleLines is 0.008207\n",
            "Information value of internetService is 0.617953\n",
            "Information value of onlineSecurity is 0.717777\n",
            "Information value of onlineBackup is 0.528634\n",
            "Information value of deviceProtection is 0.499725\n",
            "Information value of techSupport is 0.699567\n",
            "Information value of streamingTV is 0.380462\n",
            "Information value of streamingMovies is 0.381374\n",
            "Information value of contract is 1.23856\n",
            "Information value of paperlessBilling is 0.203068\n",
            "Information value of paymentMethod is 0.457109\n",
            "Information value of monthlyCharges is 0.364717\n",
            "Information value of totalCharges is 0.337553\n"
          ],
          "name": "stdout"
        },
        {
          "output_type": "execute_result",
          "data": {
            "text/plain": [
              "(           Variable        IV\n",
              " 0            gender  0.000380\n",
              " 0     seniorCitizen  0.105621\n",
              " 0           partner  0.118729\n",
              " 0        dependents  0.155488\n",
              " 0            tenure  0.823712\n",
              " 0      phoneService  0.000745\n",
              " 0     multipleLines  0.008207\n",
              " 0   internetService  0.617953\n",
              " 0    onlineSecurity  0.717777\n",
              " 0      onlineBackup  0.528634\n",
              " 0  deviceProtection  0.499725\n",
              " 0       techSupport  0.699567\n",
              " 0       streamingTV  0.380462\n",
              " 0   streamingMovies  0.381374\n",
              " 0          contract  1.238560\n",
              " 0  paperlessBilling  0.203068\n",
              " 0     paymentMethod  0.457109\n",
              " 0    monthlyCharges  0.364717\n",
              " 0      totalCharges  0.337553,\n",
              "          Variable               Cutoff  ...       WoE        IV\n",
              " 0          gender               Female  ...  0.019602  0.000191\n",
              " 1          gender                 Male  ... -0.019409  0.000189\n",
              " 0   seniorCitizen                   No  ... -0.156151  0.019669\n",
              " 1   seniorCitizen                  Yes  ...  0.682371  0.085952\n",
              " 0         partner                   No  ...  0.308156  0.052471\n",
              " ..            ...                  ...  ...       ...       ...\n",
              " 5    totalCharges  (1397.475, 2048.95]  ... -0.402499  0.014621\n",
              " 6    totalCharges   (2048.95, 3141.13]  ...  0.079823  0.000649\n",
              " 7    totalCharges   (3141.13, 4475.41]  ... -0.505446  0.022412\n",
              " 8    totalCharges   (4475.41, 5976.64]  ... -0.657862  0.036361\n",
              " 9    totalCharges    (5976.64, 8684.8]  ... -0.929796  0.067156\n",
              " \n",
              " [73 rows x 9 columns])"
            ]
          },
          "metadata": {
            "tags": []
          },
          "execution_count": 35
        }
      ]
    },
    {
      "cell_type": "code",
      "metadata": {
        "id": "XjLzqIhhG8da"
      },
      "source": [
        "#Identify categorcal & continuous variables\n",
        "continuous, categorical = [], []\n",
        "exclude = ['customerID','churn']\n",
        "\n",
        "for col in [c for c in telcodf.columns if c not in exclude and c != 'label']:\n",
        "    if is_numeric_dtype(telcodf[col]):\n",
        "        continuous.append(col)\n",
        "    else:\n",
        "        categorical.append(col)\n"
      ],
      "execution_count": 11,
      "outputs": []
    },
    {
      "cell_type": "markdown",
      "metadata": {
        "id": "FdNjHmZP5-8N"
      },
      "source": [
        "The IV is decided based on the following set rules:\n",
        "\n",
        "IV < 0.02\tpredictive power useless for prediction\n",
        "\n",
        "IV - 0.02 - 0.1\tweak predictor\n",
        "\n",
        "IV - 0.1 - 0.3\tmedium predictor\n",
        "\n",
        "IV - 0.3 - 0.5\tstrong predictor\n",
        "\n",
        "IV - > 0.5\tsuspicious or too good"
      ]
    },
    {
      "cell_type": "markdown",
      "metadata": {
        "id": "Qm74HWK4UBX8"
      },
      "source": [
        "Hence looking at the IV score, the following features can be considered for Logistic Regression of Churn:\n",
        "\n",
        "seniorCitizen  0.105621\n",
        "\n",
        "partner  0.118729\n",
        "\n",
        "dependents  0.155488\n",
        "\n",
        "paperlessBilling  0.203068\n",
        "\n",
        "paymentMethod  0.457109\n",
        "\n",
        "monthlyCharges  0.364717\n",
        "\n",
        "totalCharges  0.337553\n",
        "\n",
        "The ones with more than 0.5 are either too good to be true or needs deeper investigation\n"
      ]
    },
    {
      "cell_type": "code",
      "metadata": {
        "id": "jtVqD-7gr_my"
      },
      "source": [
        "#Create dummy variables for categorical variables:\n",
        "dummy_srcitizen = pd.get_dummies(telcodf['seniorCitizen'])\n",
        "dummy_partner  = pd.get_dummies(telcodf['partner'])\n",
        "dummy_dependents = pd.get_dummies(telcodf['dependents'])\n",
        "dummy_paperlessBilling  = pd.get_dummies(telcodf['paperlessBilling'])\n",
        "dummy_paymentMethod = pd.get_dummies(telcodf['paymentMethod'])"
      ],
      "execution_count": null,
      "outputs": []
    },
    {
      "cell_type": "code",
      "metadata": {
        "colab": {
          "base_uri": "https://localhost:8080/",
          "height": 372
        },
        "id": "GQXl6gJRG8a7",
        "outputId": "6c90fbef-ac35-43c6-d82b-24edca383c6d"
      },
      "source": [
        "telcodf_logist = pd.concat([dummy_srcitizen, dummy_partner, dummy_dependents, dummy_paperlessBilling,\n",
        "                            dummy_paymentMethod, telcodf[['monthlyCharges', 'totalCharges', 'label']]], axis=1)\n",
        "telcodf_logist.sample(10)"
      ],
      "execution_count": 31,
      "outputs": [
        {
          "output_type": "execute_result",
          "data": {
            "text/html": [
              "<div>\n",
              "<style scoped>\n",
              "    .dataframe tbody tr th:only-of-type {\n",
              "        vertical-align: middle;\n",
              "    }\n",
              "\n",
              "    .dataframe tbody tr th {\n",
              "        vertical-align: top;\n",
              "    }\n",
              "\n",
              "    .dataframe thead th {\n",
              "        text-align: right;\n",
              "    }\n",
              "</style>\n",
              "<table border=\"1\" class=\"dataframe\">\n",
              "  <thead>\n",
              "    <tr style=\"text-align: right;\">\n",
              "      <th></th>\n",
              "      <th>No</th>\n",
              "      <th>Yes</th>\n",
              "      <th>No</th>\n",
              "      <th>Yes</th>\n",
              "      <th>No</th>\n",
              "      <th>Yes</th>\n",
              "      <th>No</th>\n",
              "      <th>Yes</th>\n",
              "      <th>Bank transfer (automatic)</th>\n",
              "      <th>Credit card (automatic)</th>\n",
              "      <th>Electronic check</th>\n",
              "      <th>Mailed check</th>\n",
              "      <th>monthlyCharges</th>\n",
              "      <th>totalCharges</th>\n",
              "      <th>label</th>\n",
              "    </tr>\n",
              "  </thead>\n",
              "  <tbody>\n",
              "    <tr>\n",
              "      <th>2139</th>\n",
              "      <td>1</td>\n",
              "      <td>0</td>\n",
              "      <td>1</td>\n",
              "      <td>0</td>\n",
              "      <td>1</td>\n",
              "      <td>0</td>\n",
              "      <td>0</td>\n",
              "      <td>1</td>\n",
              "      <td>0</td>\n",
              "      <td>0</td>\n",
              "      <td>1</td>\n",
              "      <td>0</td>\n",
              "      <td>66.85</td>\n",
              "      <td>458.10</td>\n",
              "      <td>0</td>\n",
              "    </tr>\n",
              "    <tr>\n",
              "      <th>4148</th>\n",
              "      <td>1</td>\n",
              "      <td>0</td>\n",
              "      <td>1</td>\n",
              "      <td>0</td>\n",
              "      <td>1</td>\n",
              "      <td>0</td>\n",
              "      <td>1</td>\n",
              "      <td>0</td>\n",
              "      <td>0</td>\n",
              "      <td>1</td>\n",
              "      <td>0</td>\n",
              "      <td>0</td>\n",
              "      <td>19.35</td>\n",
              "      <td>601.60</td>\n",
              "      <td>0</td>\n",
              "    </tr>\n",
              "    <tr>\n",
              "      <th>3057</th>\n",
              "      <td>1</td>\n",
              "      <td>0</td>\n",
              "      <td>0</td>\n",
              "      <td>1</td>\n",
              "      <td>0</td>\n",
              "      <td>1</td>\n",
              "      <td>1</td>\n",
              "      <td>0</td>\n",
              "      <td>0</td>\n",
              "      <td>0</td>\n",
              "      <td>1</td>\n",
              "      <td>0</td>\n",
              "      <td>19.60</td>\n",
              "      <td>411.15</td>\n",
              "      <td>0</td>\n",
              "    </tr>\n",
              "    <tr>\n",
              "      <th>1962</th>\n",
              "      <td>1</td>\n",
              "      <td>0</td>\n",
              "      <td>1</td>\n",
              "      <td>0</td>\n",
              "      <td>1</td>\n",
              "      <td>0</td>\n",
              "      <td>0</td>\n",
              "      <td>1</td>\n",
              "      <td>0</td>\n",
              "      <td>1</td>\n",
              "      <td>0</td>\n",
              "      <td>0</td>\n",
              "      <td>99.95</td>\n",
              "      <td>2292.75</td>\n",
              "      <td>0</td>\n",
              "    </tr>\n",
              "    <tr>\n",
              "      <th>3494</th>\n",
              "      <td>1</td>\n",
              "      <td>0</td>\n",
              "      <td>0</td>\n",
              "      <td>1</td>\n",
              "      <td>0</td>\n",
              "      <td>1</td>\n",
              "      <td>0</td>\n",
              "      <td>1</td>\n",
              "      <td>1</td>\n",
              "      <td>0</td>\n",
              "      <td>0</td>\n",
              "      <td>0</td>\n",
              "      <td>85.35</td>\n",
              "      <td>754.65</td>\n",
              "      <td>1</td>\n",
              "    </tr>\n",
              "    <tr>\n",
              "      <th>2956</th>\n",
              "      <td>1</td>\n",
              "      <td>0</td>\n",
              "      <td>1</td>\n",
              "      <td>0</td>\n",
              "      <td>1</td>\n",
              "      <td>0</td>\n",
              "      <td>0</td>\n",
              "      <td>1</td>\n",
              "      <td>0</td>\n",
              "      <td>0</td>\n",
              "      <td>1</td>\n",
              "      <td>0</td>\n",
              "      <td>99.00</td>\n",
              "      <td>5038.15</td>\n",
              "      <td>0</td>\n",
              "    </tr>\n",
              "    <tr>\n",
              "      <th>3127</th>\n",
              "      <td>1</td>\n",
              "      <td>0</td>\n",
              "      <td>1</td>\n",
              "      <td>0</td>\n",
              "      <td>1</td>\n",
              "      <td>0</td>\n",
              "      <td>0</td>\n",
              "      <td>1</td>\n",
              "      <td>0</td>\n",
              "      <td>0</td>\n",
              "      <td>1</td>\n",
              "      <td>0</td>\n",
              "      <td>30.60</td>\n",
              "      <td>856.35</td>\n",
              "      <td>1</td>\n",
              "    </tr>\n",
              "    <tr>\n",
              "      <th>397</th>\n",
              "      <td>1</td>\n",
              "      <td>0</td>\n",
              "      <td>1</td>\n",
              "      <td>0</td>\n",
              "      <td>1</td>\n",
              "      <td>0</td>\n",
              "      <td>0</td>\n",
              "      <td>1</td>\n",
              "      <td>0</td>\n",
              "      <td>1</td>\n",
              "      <td>0</td>\n",
              "      <td>0</td>\n",
              "      <td>73.95</td>\n",
              "      <td>2524.45</td>\n",
              "      <td>1</td>\n",
              "    </tr>\n",
              "    <tr>\n",
              "      <th>5508</th>\n",
              "      <td>1</td>\n",
              "      <td>0</td>\n",
              "      <td>0</td>\n",
              "      <td>1</td>\n",
              "      <td>1</td>\n",
              "      <td>0</td>\n",
              "      <td>1</td>\n",
              "      <td>0</td>\n",
              "      <td>1</td>\n",
              "      <td>0</td>\n",
              "      <td>0</td>\n",
              "      <td>0</td>\n",
              "      <td>25.15</td>\n",
              "      <td>1940.85</td>\n",
              "      <td>0</td>\n",
              "    </tr>\n",
              "    <tr>\n",
              "      <th>3339</th>\n",
              "      <td>1</td>\n",
              "      <td>0</td>\n",
              "      <td>0</td>\n",
              "      <td>1</td>\n",
              "      <td>0</td>\n",
              "      <td>1</td>\n",
              "      <td>1</td>\n",
              "      <td>0</td>\n",
              "      <td>0</td>\n",
              "      <td>1</td>\n",
              "      <td>0</td>\n",
              "      <td>0</td>\n",
              "      <td>88.00</td>\n",
              "      <td>6161.90</td>\n",
              "      <td>0</td>\n",
              "    </tr>\n",
              "  </tbody>\n",
              "</table>\n",
              "</div>"
            ],
            "text/plain": [
              "      No  Yes  No  Yes  ...  Mailed check  monthlyCharges  totalCharges  label\n",
              "2139   1    0   1    0  ...             0           66.85        458.10      0\n",
              "4148   1    0   1    0  ...             0           19.35        601.60      0\n",
              "3057   1    0   0    1  ...             0           19.60        411.15      0\n",
              "1962   1    0   1    0  ...             0           99.95       2292.75      0\n",
              "3494   1    0   0    1  ...             0           85.35        754.65      1\n",
              "2956   1    0   1    0  ...             0           99.00       5038.15      0\n",
              "3127   1    0   1    0  ...             0           30.60        856.35      1\n",
              "397    1    0   1    0  ...             0           73.95       2524.45      1\n",
              "5508   1    0   0    1  ...             0           25.15       1940.85      0\n",
              "3339   1    0   0    1  ...             0           88.00       6161.90      0\n",
              "\n",
              "[10 rows x 15 columns]"
            ]
          },
          "metadata": {
            "tags": []
          },
          "execution_count": 31
        }
      ]
    },
    {
      "cell_type": "code",
      "metadata": {
        "colab": {
          "base_uri": "https://localhost:8080/"
        },
        "id": "ZqnGox6Ejdjc",
        "outputId": "74767747-d190-493f-992e-1a6db85edc69"
      },
      "source": [
        "telcodf_logist.isnull().sum()"
      ],
      "execution_count": 32,
      "outputs": [
        {
          "output_type": "execute_result",
          "data": {
            "text/plain": [
              "No                            0\n",
              "Yes                           0\n",
              "No                            0\n",
              "Yes                           0\n",
              "No                            0\n",
              "Yes                           0\n",
              "No                            0\n",
              "Yes                           0\n",
              "Bank transfer (automatic)     0\n",
              "Credit card (automatic)       0\n",
              "Electronic check              0\n",
              "Mailed check                  0\n",
              "monthlyCharges                0\n",
              "totalCharges                 11\n",
              "label                         0\n",
              "dtype: int64"
            ]
          },
          "metadata": {
            "tags": []
          },
          "execution_count": 32
        }
      ]
    },
    {
      "cell_type": "code",
      "metadata": {
        "id": "GinRfCyUjlVZ"
      },
      "source": [
        "#Fill null values of totalCharges with mean values\n",
        "telcodf_logist['totalCharges'] = telcodf_logist['totalCharges'].fillna(telcodf['totalCharges'].mean())"
      ],
      "execution_count": 41,
      "outputs": []
    },
    {
      "cell_type": "code",
      "metadata": {
        "colab": {
          "base_uri": "https://localhost:8080/",
          "height": 65
        },
        "id": "Lrcs3ijZkHBj",
        "outputId": "8d916fa1-8d83-4fcd-d917-3bd1f6f46091"
      },
      "source": [
        "telcodf_logist[telcodf_logist['totalCharges'].isnull()]"
      ],
      "execution_count": 43,
      "outputs": [
        {
          "output_type": "execute_result",
          "data": {
            "text/html": [
              "<div>\n",
              "<style scoped>\n",
              "    .dataframe tbody tr th:only-of-type {\n",
              "        vertical-align: middle;\n",
              "    }\n",
              "\n",
              "    .dataframe tbody tr th {\n",
              "        vertical-align: top;\n",
              "    }\n",
              "\n",
              "    .dataframe thead th {\n",
              "        text-align: right;\n",
              "    }\n",
              "</style>\n",
              "<table border=\"1\" class=\"dataframe\">\n",
              "  <thead>\n",
              "    <tr style=\"text-align: right;\">\n",
              "      <th></th>\n",
              "      <th>No</th>\n",
              "      <th>Yes</th>\n",
              "      <th>No</th>\n",
              "      <th>Yes</th>\n",
              "      <th>No</th>\n",
              "      <th>Yes</th>\n",
              "      <th>No</th>\n",
              "      <th>Yes</th>\n",
              "      <th>Bank transfer (automatic)</th>\n",
              "      <th>Credit card (automatic)</th>\n",
              "      <th>Electronic check</th>\n",
              "      <th>Mailed check</th>\n",
              "      <th>monthlyCharges</th>\n",
              "      <th>totalCharges</th>\n",
              "      <th>label</th>\n",
              "    </tr>\n",
              "  </thead>\n",
              "  <tbody>\n",
              "  </tbody>\n",
              "</table>\n",
              "</div>"
            ],
            "text/plain": [
              "Empty DataFrame\n",
              "Columns: [No, Yes, No, Yes, No, Yes, No, Yes, Bank transfer (automatic), Credit card (automatic), Electronic check, Mailed check, monthlyCharges, totalCharges, label]\n",
              "Index: []"
            ]
          },
          "metadata": {
            "tags": []
          },
          "execution_count": 43
        }
      ]
    },
    {
      "cell_type": "code",
      "metadata": {
        "id": "4J5aheOnB7bW"
      },
      "source": [
        ""
      ],
      "execution_count": null,
      "outputs": []
    },
    {
      "cell_type": "markdown",
      "metadata": {
        "id": "Wdp4yQrZsr7P"
      },
      "source": [
        "Logistic Regression using Statsmodels"
      ]
    },
    {
      "cell_type": "code",
      "metadata": {
        "id": "Splwe3gaiN8w"
      },
      "source": [
        "x_train,x_test,y_train,y_test = train_test_split(telcodf_logist.drop(['label'],axis=1),telcodf_logist['label'],train_size = 0.7,random_state=42)\n",
        "\n",
        "y_train = pd.DataFrame(y_train)\n",
        "y_test = pd.DataFrame(y_test)"
      ],
      "execution_count": 44,
      "outputs": []
    },
    {
      "cell_type": "code",
      "metadata": {
        "colab": {
          "base_uri": "https://localhost:8080/"
        },
        "id": "5Dln8uvEihY5",
        "outputId": "71531d0e-cb47-4925-ff65-5f2f9f910559"
      },
      "source": [
        "import statsmodels.api as sm\n",
        "logistic_model = sm.Logit(y_train,sm.add_constant(x_train)).fit()\n",
        "print (logistic_model.summary())"
      ],
      "execution_count": 45,
      "outputs": [
        {
          "output_type": "stream",
          "text": [
            "Optimization terminated successfully.\n",
            "         Current function value: 0.452397\n",
            "         Iterations 27\n",
            "                           Logit Regression Results                           \n",
            "==============================================================================\n",
            "Dep. Variable:                  label   No. Observations:                 4930\n",
            "Model:                          Logit   Df Residuals:                     4920\n",
            "Method:                           MLE   Df Model:                            9\n",
            "Date:                Tue, 15 Jun 2021   Pseudo R-squ.:                  0.2144\n",
            "Time:                        17:05:05   Log-Likelihood:                -2230.3\n",
            "converged:                       True   LL-Null:                       -2838.9\n",
            "Covariance Type:            nonrobust   LLR p-value:                2.420e-256\n",
            "=============================================================================================\n",
            "                                coef    std err          z      P>|z|      [0.025      0.975]\n",
            "---------------------------------------------------------------------------------------------\n",
            "const                      -931.3798   2.42e+06     -0.000      1.000   -4.75e+06    4.75e+06\n",
            "No                          932.1866    3.2e+06      0.000      1.000   -6.27e+06    6.28e+06\n",
            "Yes                         932.6168   3.29e+06      0.000      1.000   -6.44e+06    6.44e+06\n",
            "No                           -4.6498   1.73e+06  -2.68e-06      1.000    -3.4e+06     3.4e+06\n",
            "Yes                          -4.7460   1.72e+06  -2.77e-06      1.000   -3.36e+06    3.36e+06\n",
            "No                            4.7255        nan        nan        nan         nan         nan\n",
            "Yes                           4.4422        nan        nan        nan         nan         nan\n",
            "No                           -3.3154   1.54e+06  -2.16e-06      1.000   -3.01e+06    3.01e+06\n",
            "Yes                          -2.8436   1.54e+06  -1.85e-06      1.000   -3.02e+06    3.02e+06\n",
            "Bank transfer (automatic)    -0.3184        nan        nan        nan         nan         nan\n",
            "Credit card (automatic)      -0.4206        nan        nan        nan         nan         nan\n",
            "Electronic check              0.2896        nan        nan        nan         nan         nan\n",
            "Mailed check                 -0.2745        nan        nan        nan         nan         nan\n",
            "monthlyCharges                0.0342      0.002     18.230      0.000       0.030       0.038\n",
            "totalCharges                 -0.0005   2.53e-05    -20.859      0.000      -0.001      -0.000\n",
            "=============================================================================================\n"
          ],
          "name": "stdout"
        },
        {
          "output_type": "stream",
          "text": [
            "/usr/local/lib/python3.7/dist-packages/statsmodels/base/model.py:1286: RuntimeWarning: invalid value encountered in sqrt\n",
            "  bse_ = np.sqrt(np.diag(self.cov_params()))\n"
          ],
          "name": "stderr"
        }
      ]
    },
    {
      "cell_type": "code",
      "metadata": {
        "colab": {
          "base_uri": "https://localhost:8080/"
        },
        "id": "BjpPWyKSAkp0",
        "outputId": "271f0028-f935-473a-8de2-79a58a51e8a4"
      },
      "source": [
        "from sklearn.linear_model import LinearRegression\n",
        "reg = LinearRegression().fit(x_train[['monthlyCharges','totalCharges']], y_train['label'])\n",
        "reg.score(x_train[['monthlyCharges','totalCharges']], y_train['label'])\n",
        "print(reg.coef_)\n",
        "print(reg.intercept_)"
      ],
      "execution_count": 61,
      "outputs": [
        {
          "output_type": "stream",
          "text": [
            "[ 0.00800474 -0.00010735]\n",
            "-0.010054638164334384\n"
          ],
          "name": "stdout"
        }
      ]
    },
    {
      "cell_type": "markdown",
      "metadata": {
        "id": "SftSw7DSDECk"
      },
      "source": [
        "Identify churn minimum monthly charges"
      ]
    },
    {
      "cell_type": "code",
      "metadata": {
        "colab": {
          "base_uri": "https://localhost:8080/"
        },
        "id": "PAASBeNpCRPG",
        "outputId": "92987a66-0a66-49eb-9c7e-2fadf4dab94f"
      },
      "source": [
        "#Calculate the minimum monthly charges for which churn could happen\n",
        "monthlychargesforchurn = (1+0.01)/(0.0342)\n",
        "print(monthlychargesforchurn)"
      ],
      "execution_count": 64,
      "outputs": [
        {
          "output_type": "stream",
          "text": [
            "29.53216374269006\n"
          ],
          "name": "stdout"
        }
      ]
    },
    {
      "cell_type": "markdown",
      "metadata": {
        "id": "0ixDazZGt58Z"
      },
      "source": [
        "Confusion matrix for metrics analysis, ROC curve using sklearn library"
      ]
    },
    {
      "cell_type": "code",
      "metadata": {
        "colab": {
          "base_uri": "https://localhost:8080/"
        },
        "id": "SqXWKg06iiJC",
        "outputId": "6e45615d-ef1e-4d09-93ce-7563de5dab30"
      },
      "source": [
        "# performing predictions on the test datdaset\n",
        "yhat = logistic_model.predict(sm.add_constant(x_test))\n",
        "prediction = list(map(round, yhat))\n",
        "  \n",
        "from sklearn.metrics import (confusion_matrix, accuracy_score)\n",
        "  \n",
        "# confusion matrix\n",
        "cm = confusion_matrix(y_test, prediction) \n",
        "print (\"Confusion Matrix : \\n\", cm) \n",
        "  \n",
        "# accuracy score of the model\n",
        "print('Test accuracy = ', accuracy_score(y_test, prediction))"
      ],
      "execution_count": 49,
      "outputs": [
        {
          "output_type": "stream",
          "text": [
            "Confusion Matrix : \n",
            " [[1411  128]\n",
            " [ 316  258]]\n",
            "Test accuracy =  0.7898722195929957\n"
          ],
          "name": "stdout"
        }
      ]
    },
    {
      "cell_type": "code",
      "metadata": {
        "id": "TQtXVGNriiGj"
      },
      "source": [
        "from sklearn.linear_model import LogisticRegression\n",
        "from sklearn.metrics import plot_confusion_matrix\n",
        "from sklearn.metrics import accuracy_score\n",
        "from sklearn.metrics import precision_score\n",
        "from sklearn.metrics import recall_score\n",
        "from sklearn.metrics import f1_score\n",
        "from sklearn.metrics import confusion_matrix\n",
        "from sklearn.metrics import roc_auc_score\n",
        "from sklearn.metrics import roc_curve\n",
        "from sklearn.model_selection import cross_val_score"
      ],
      "execution_count": 50,
      "outputs": []
    },
    {
      "cell_type": "code",
      "metadata": {
        "colab": {
          "base_uri": "https://localhost:8080/"
        },
        "id": "bNnV54VYiiED",
        "outputId": "a5f8fb5f-45d7-4fd4-c9d6-db42d1e9a703"
      },
      "source": [
        "logreg = LogisticRegression()\n",
        "logreg.fit(x_train, y_train)\n",
        "\n",
        "y_pred = logreg.predict(x_test)\n",
        "\n",
        "confusion_matrix = confusion_matrix(y_test, y_pred)\n",
        "print(confusion_matrix)"
      ],
      "execution_count": 51,
      "outputs": [
        {
          "output_type": "stream",
          "text": [
            "[[1412  127]\n",
            " [ 316  258]]\n"
          ],
          "name": "stdout"
        },
        {
          "output_type": "stream",
          "text": [
            "/usr/local/lib/python3.7/dist-packages/sklearn/utils/validation.py:760: DataConversionWarning: A column-vector y was passed when a 1d array was expected. Please change the shape of y to (n_samples, ), for example using ravel().\n",
            "  y = column_or_1d(y, warn=True)\n"
          ],
          "name": "stderr"
        }
      ]
    },
    {
      "cell_type": "code",
      "metadata": {
        "colab": {
          "base_uri": "https://localhost:8080/",
          "height": 307
        },
        "id": "UvheR8kIiiBj",
        "outputId": "900996b7-c410-4e11-8d91-bdd5e2af5756"
      },
      "source": [
        "fig = plot_confusion_matrix(logreg, x_test, y_test, display_labels=logreg.classes_)\n",
        "fig.figure_.suptitle(\"Confusion Matrix for Telco Dataset\")\n",
        "plt.show()"
      ],
      "execution_count": 52,
      "outputs": [
        {
          "output_type": "display_data",
          "data": {
            "image/png": "[encoded data removed]",
            "text/plain": [
              "<Figure size 432x288 with 2 Axes>"
            ]
          },
          "metadata": {
            "tags": [],
            "needs_background": "light"
          }
        }
      ]
    },
    {
      "cell_type": "code",
      "metadata": {
        "colab": {
          "base_uri": "https://localhost:8080/"
        },
        "id": "YUvsa6Hwih_a",
        "outputId": "54b92a7d-f307-42cf-aa01-16ecd6ff4fde"
      },
      "source": [
        "print('Accuracy: {:.2f}'.format(accuracy_score(y_test, y_pred)))\n",
        "print('Error rate: {:.2f}'.format(1 - accuracy_score(y_test, y_pred)))\n",
        "print('Precision: {:.2f}'.format(precision_score(y_test, y_pred)))\n",
        "print('Recall: {:.2f}'.format(recall_score(y_test, y_pred)))\n",
        "print('f1_score: {:.2f}'.format(f1_score(y_test, y_pred)))"
      ],
      "execution_count": 53,
      "outputs": [
        {
          "output_type": "stream",
          "text": [
            "Accuracy: 0.79\n",
            "Error rate: 0.21\n",
            "Precision: 0.67\n",
            "Recall: 0.45\n",
            "f1_score: 0.54\n"
          ],
          "name": "stdout"
        }
      ]
    },
    {
      "cell_type": "code",
      "metadata": {
        "colab": {
          "base_uri": "https://localhost:8080/",
          "height": 294
        },
        "id": "8rT9PYBa2_vu",
        "outputId": "639615c8-f3c0-4917-b54e-c680c067207f"
      },
      "source": [
        "logit_roc_auc = roc_auc_score(y_test, logreg.predict(x_test))\n",
        "fpr, tpr, thresholds = roc_curve(y_test, logreg.predict_proba(x_test)[:,1])\n",
        "plt.figure()\n",
        "plt.plot(fpr, tpr, label='Logistic Regression (area = %0.2f)' % logit_roc_auc)\n",
        "plt.plot([0, 1], [0, 1],'r--')\n",
        "plt.xlim([0.0, 1.0])\n",
        "plt.ylim([0.0, 1.05])\n",
        "plt.xlabel('False Positive Rate')\n",
        "plt.ylabel('True Positive Rate')\n",
        "plt.title('Receiver operating characteristic ROC')\n",
        "plt.legend(loc=\"lower right\")\n",
        "\n",
        "plt.show()"
      ],
      "execution_count": 54,
      "outputs": [
        {
          "output_type": "display_data",
          "data": {
            "image/png": "[encoded data removed]",
            "text/plain": [
              "<Figure size 432x288 with 1 Axes>"
            ]
          },
          "metadata": {
            "tags": [],
            "needs_background": "light"
          }
        }
      ]
    },
    {
      "cell_type": "code",
      "metadata": {
        "colab": {
          "base_uri": "https://localhost:8080/"
        },
        "id": "wnuTyU0H2_r_",
        "outputId": "155d3f9f-0bc1-4fd6-bf9e-dabadce04aaa"
      },
      "source": [
        "y_pred_proba = logreg.predict_proba(x_test)[::,1]\n",
        "roc_auc_score(y_test, y_pred_proba)"
      ],
      "execution_count": 55,
      "outputs": [
        {
          "output_type": "execute_result",
          "data": {
            "text/plain": [
              "0.8293396091855655"
            ]
          },
          "metadata": {
            "tags": []
          },
          "execution_count": 55
        }
      ]
    },
    {
      "cell_type": "markdown",
      "metadata": {
        "id": "mSvuP1UN4SKN"
      },
      "source": [
        "Conclusion: The churner profile includes the following characteristics\n",
        "\n",
        "1. Uses Electronic check for making payments\n",
        "2. Uses monthly contracts\n",
        "3. The minimum monthly charges for which churn could happen is above 30\n"
      ]
    },
    {
      "cell_type": "code",
      "metadata": {
        "id": "KerC6YxU2_ph"
      },
      "source": [
        ""
      ],
      "execution_count": null,
      "outputs": []
    },
    {
      "cell_type": "code",
      "metadata": {
        "id": "W3cCBX7p2_mq"
      },
      "source": [
        ""
      ],
      "execution_count": null,
      "outputs": []
    },
    {
      "cell_type": "code",
      "metadata": {
        "id": "CE9eOHv52_jV"
      },
      "source": [
        ""
      ],
      "execution_count": null,
      "outputs": []
    },
    {
      "cell_type": "code",
      "metadata": {
        "id": "aoN8O0-o2_f-"
      },
      "source": [
        ""
      ],
      "execution_count": null,
      "outputs": []
    },
    {
      "cell_type": "code",
      "metadata": {
        "id": "JWfLE6fV2_dQ"
      },
      "source": [
        ""
      ],
      "execution_count": null,
      "outputs": []
    }
  ]
}