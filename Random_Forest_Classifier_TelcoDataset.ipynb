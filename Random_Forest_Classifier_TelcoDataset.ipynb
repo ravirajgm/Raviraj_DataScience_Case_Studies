{
  "nbformat": 4,
  "nbformat_minor": 0,
  "metadata": {
    "colab": {
      "name": "Random_Forest_Classifier_TelcoDataset.ipynb",
      "provenance": [],
      "collapsed_sections": [],
      "mount_file_id": "1bNi2XPddP1rdHNtIlgM7tx4bZqRFmt6W",
      "authorship_tag": "ABX9TyN8MAHX6B8HRmQgOU5yJS+e",
      "include_colab_link": true
    },
    "kernelspec": {
      "name": "python3",
      "display_name": "Python 3"
    },
    "language_info": {
      "name": "python"
    }
  },
  "cells": [
    {
      "cell_type": "markdown",
      "metadata": {
        "id": "view-in-github",
        "colab_type": "text"
      },
      "source": [
        "<a href=\"https://colab.research.google.com/github/ravirajgm/Raviraj_Data_Science_Case_Studies/blob/main/Random_Forest_Classifier_TelcoDataset.ipynb\" target=\"_parent\"><img src=\"https://colab.research.google.com/assets/colab-badge.svg\" alt=\"Open In Colab\"/></a>"
      ]
    },
    {
      "cell_type": "markdown",
      "metadata": {
        "id": "0DkGctOfhxc7"
      },
      "source": [
        "Random Forest Classification Analysis of Telco Data with Variable importance"
      ]
    },
    {
      "cell_type": "code",
      "metadata": {
        "id": "dxiqT7tthECu"
      },
      "source": [
        "import numpy as np\n",
        "import pandas as pd\n",
        "import matplotlib.pyplot as plt\n",
        "import seaborn as sns\n",
        "from sklearn.ensemble import RandomForestClassifier\n",
        "from sklearn.model_selection import train_test_split\n",
        "from sklearn.metrics import plot_confusion_matrix\n",
        "from sklearn.metrics import accuracy_score\n",
        "from sklearn.metrics import precision_score\n",
        "from sklearn.metrics import recall_score\n",
        "from sklearn.metrics import f1_score\n",
        "from sklearn.metrics import confusion_matrix\n",
        "from sklearn.metrics import roc_auc_score\n",
        "from sklearn.metrics import roc_curve\n",
        "from sklearn.model_selection import cross_val_score\n",
        "from sklearn.metrics import accuracy_score,classification_report\n",
        "from pandas.api.types import is_numeric_dtype"
      ],
      "execution_count": 1,
      "outputs": []
    },
    {
      "cell_type": "code",
      "metadata": {
        "colab": {
          "base_uri": "https://localhost:8080/",
          "height": 305
        },
        "id": "94PdxHhBiKxj",
        "outputId": "ffab6ddd-802e-498e-9bb4-fe480a887ea9"
      },
      "source": [
        "#Load the Telco data for one month\n",
        "telcodf = pd.read_csv('/content/drive/MyDrive/Colab Notebooks/Data/WA_Fn-UseC_-Telco-Customer-Churn.csv')\n",
        "telcodf.columns = [c[0].lower() + c[1:] for c in telcodf.columns]\n",
        "telcodf['seniorCitizen'] = telcodf['seniorCitizen'].map({1:'Yes',0:'No'})\n",
        "telcodf['label'] = telcodf['churn'].map({'Yes':1,'No':0})\n",
        "telcodf['totalCharges'] = pd.to_numeric(telcodf['totalCharges'],errors='coerce')\n",
        "telcodf.sample(5)"
      ],
      "execution_count": 2,
      "outputs": [
        {
          "output_type": "execute_result",
          "data": {
            "text/html": [
              "<div>\n",
              "<style scoped>\n",
              "    .dataframe tbody tr th:only-of-type {\n",
              "        vertical-align: middle;\n",
              "    }\n",
              "\n",
              "    .dataframe tbody tr th {\n",
              "        vertical-align: top;\n",
              "    }\n",
              "\n",
              "    .dataframe thead th {\n",
              "        text-align: right;\n",
              "    }\n",
              "</style>\n",
              "<table border=\"1\" class=\"dataframe\">\n",
              "  <thead>\n",
              "    <tr style=\"text-align: right;\">\n",
              "      <th></th>\n",
              "      <th>customerID</th>\n",
              "      <th>gender</th>\n",
              "      <th>seniorCitizen</th>\n",
              "      <th>partner</th>\n",
              "      <th>dependents</th>\n",
              "      <th>tenure</th>\n",
              "      <th>phoneService</th>\n",
              "      <th>multipleLines</th>\n",
              "      <th>internetService</th>\n",
              "      <th>onlineSecurity</th>\n",
              "      <th>onlineBackup</th>\n",
              "      <th>deviceProtection</th>\n",
              "      <th>techSupport</th>\n",
              "      <th>streamingTV</th>\n",
              "      <th>streamingMovies</th>\n",
              "      <th>contract</th>\n",
              "      <th>paperlessBilling</th>\n",
              "      <th>paymentMethod</th>\n",
              "      <th>monthlyCharges</th>\n",
              "      <th>totalCharges</th>\n",
              "      <th>churn</th>\n",
              "      <th>label</th>\n",
              "    </tr>\n",
              "  </thead>\n",
              "  <tbody>\n",
              "    <tr>\n",
              "      <th>3794</th>\n",
              "      <td>4280-DLSHD</td>\n",
              "      <td>Male</td>\n",
              "      <td>No</td>\n",
              "      <td>Yes</td>\n",
              "      <td>No</td>\n",
              "      <td>8</td>\n",
              "      <td>Yes</td>\n",
              "      <td>No</td>\n",
              "      <td>DSL</td>\n",
              "      <td>No</td>\n",
              "      <td>Yes</td>\n",
              "      <td>Yes</td>\n",
              "      <td>No</td>\n",
              "      <td>No</td>\n",
              "      <td>No</td>\n",
              "      <td>Month-to-month</td>\n",
              "      <td>Yes</td>\n",
              "      <td>Mailed check</td>\n",
              "      <td>54.75</td>\n",
              "      <td>445.85</td>\n",
              "      <td>No</td>\n",
              "      <td>0</td>\n",
              "    </tr>\n",
              "    <tr>\n",
              "      <th>1786</th>\n",
              "      <td>7530-HDYDS</td>\n",
              "      <td>Female</td>\n",
              "      <td>No</td>\n",
              "      <td>No</td>\n",
              "      <td>No</td>\n",
              "      <td>38</td>\n",
              "      <td>Yes</td>\n",
              "      <td>No</td>\n",
              "      <td>Fiber optic</td>\n",
              "      <td>No</td>\n",
              "      <td>Yes</td>\n",
              "      <td>Yes</td>\n",
              "      <td>Yes</td>\n",
              "      <td>No</td>\n",
              "      <td>No</td>\n",
              "      <td>Month-to-month</td>\n",
              "      <td>Yes</td>\n",
              "      <td>Credit card (automatic)</td>\n",
              "      <td>84.25</td>\n",
              "      <td>3264.50</td>\n",
              "      <td>Yes</td>\n",
              "      <td>1</td>\n",
              "    </tr>\n",
              "    <tr>\n",
              "      <th>6215</th>\n",
              "      <td>2446-BEGGB</td>\n",
              "      <td>Female</td>\n",
              "      <td>Yes</td>\n",
              "      <td>No</td>\n",
              "      <td>No</td>\n",
              "      <td>6</td>\n",
              "      <td>Yes</td>\n",
              "      <td>Yes</td>\n",
              "      <td>Fiber optic</td>\n",
              "      <td>No</td>\n",
              "      <td>Yes</td>\n",
              "      <td>No</td>\n",
              "      <td>No</td>\n",
              "      <td>Yes</td>\n",
              "      <td>Yes</td>\n",
              "      <td>Month-to-month</td>\n",
              "      <td>Yes</td>\n",
              "      <td>Electronic check</td>\n",
              "      <td>98.25</td>\n",
              "      <td>560.60</td>\n",
              "      <td>Yes</td>\n",
              "      <td>1</td>\n",
              "    </tr>\n",
              "    <tr>\n",
              "      <th>1754</th>\n",
              "      <td>3658-QQJYD</td>\n",
              "      <td>Male</td>\n",
              "      <td>No</td>\n",
              "      <td>No</td>\n",
              "      <td>No</td>\n",
              "      <td>62</td>\n",
              "      <td>Yes</td>\n",
              "      <td>No</td>\n",
              "      <td>DSL</td>\n",
              "      <td>Yes</td>\n",
              "      <td>Yes</td>\n",
              "      <td>No</td>\n",
              "      <td>No</td>\n",
              "      <td>Yes</td>\n",
              "      <td>Yes</td>\n",
              "      <td>One year</td>\n",
              "      <td>Yes</td>\n",
              "      <td>Credit card (automatic)</td>\n",
              "      <td>74.30</td>\n",
              "      <td>4698.05</td>\n",
              "      <td>No</td>\n",
              "      <td>0</td>\n",
              "    </tr>\n",
              "    <tr>\n",
              "      <th>6968</th>\n",
              "      <td>8685-WHQPW</td>\n",
              "      <td>Female</td>\n",
              "      <td>Yes</td>\n",
              "      <td>No</td>\n",
              "      <td>No</td>\n",
              "      <td>22</td>\n",
              "      <td>Yes</td>\n",
              "      <td>Yes</td>\n",
              "      <td>Fiber optic</td>\n",
              "      <td>No</td>\n",
              "      <td>No</td>\n",
              "      <td>No</td>\n",
              "      <td>No</td>\n",
              "      <td>No</td>\n",
              "      <td>No</td>\n",
              "      <td>Month-to-month</td>\n",
              "      <td>Yes</td>\n",
              "      <td>Bank transfer (automatic)</td>\n",
              "      <td>74.40</td>\n",
              "      <td>1692.60</td>\n",
              "      <td>Yes</td>\n",
              "      <td>1</td>\n",
              "    </tr>\n",
              "  </tbody>\n",
              "</table>\n",
              "</div>"
            ],
            "text/plain": [
              "      customerID  gender seniorCitizen  ... totalCharges churn  label\n",
              "3794  4280-DLSHD    Male            No  ...       445.85    No      0\n",
              "1786  7530-HDYDS  Female            No  ...      3264.50   Yes      1\n",
              "6215  2446-BEGGB  Female           Yes  ...       560.60   Yes      1\n",
              "1754  3658-QQJYD    Male            No  ...      4698.05    No      0\n",
              "6968  8685-WHQPW  Female           Yes  ...      1692.60   Yes      1\n",
              "\n",
              "[5 rows x 22 columns]"
            ]
          },
          "metadata": {
            "tags": []
          },
          "execution_count": 2
        }
      ]
    },
    {
      "cell_type": "code",
      "metadata": {
        "colab": {
          "base_uri": "https://localhost:8080/"
        },
        "id": "Ux_amugHiKvM",
        "outputId": "e137b2b8-cf6d-43e8-ca5d-20b2657e93e7"
      },
      "source": [
        "#Fill null values of totalCharges with mean values\n",
        "telcodf['totalCharges'] = telcodf['totalCharges'].fillna(telcodf['totalCharges'].mean())\n",
        "telcodf.isnull().sum()\n"
      ],
      "execution_count": 3,
      "outputs": [
        {
          "output_type": "execute_result",
          "data": {
            "text/plain": [
              "customerID          0\n",
              "gender              0\n",
              "seniorCitizen       0\n",
              "partner             0\n",
              "dependents          0\n",
              "tenure              0\n",
              "phoneService        0\n",
              "multipleLines       0\n",
              "internetService     0\n",
              "onlineSecurity      0\n",
              "onlineBackup        0\n",
              "deviceProtection    0\n",
              "techSupport         0\n",
              "streamingTV         0\n",
              "streamingMovies     0\n",
              "contract            0\n",
              "paperlessBilling    0\n",
              "paymentMethod       0\n",
              "monthlyCharges      0\n",
              "totalCharges        0\n",
              "churn               0\n",
              "label               0\n",
              "dtype: int64"
            ]
          },
          "metadata": {
            "tags": []
          },
          "execution_count": 3
        }
      ]
    },
    {
      "cell_type": "code",
      "metadata": {
        "colab": {
          "base_uri": "https://localhost:8080/",
          "height": 567
        },
        "id": "gT4R6vIpiKsj",
        "outputId": "1e29b1e2-a0be-4131-b599-6dff4dbc9a15"
      },
      "source": [
        "telcodf.drop(columns=['customerID','churn'], axis=1)"
      ],
      "execution_count": 4,
      "outputs": [
        {
          "output_type": "execute_result",
          "data": {
            "text/html": [
              "<div>\n",
              "<style scoped>\n",
              "    .dataframe tbody tr th:only-of-type {\n",
              "        vertical-align: middle;\n",
              "    }\n",
              "\n",
              "    .dataframe tbody tr th {\n",
              "        vertical-align: top;\n",
              "    }\n",
              "\n",
              "    .dataframe thead th {\n",
              "        text-align: right;\n",
              "    }\n",
              "</style>\n",
              "<table border=\"1\" class=\"dataframe\">\n",
              "  <thead>\n",
              "    <tr style=\"text-align: right;\">\n",
              "      <th></th>\n",
              "      <th>gender</th>\n",
              "      <th>seniorCitizen</th>\n",
              "      <th>partner</th>\n",
              "      <th>dependents</th>\n",
              "      <th>tenure</th>\n",
              "      <th>phoneService</th>\n",
              "      <th>multipleLines</th>\n",
              "      <th>internetService</th>\n",
              "      <th>onlineSecurity</th>\n",
              "      <th>onlineBackup</th>\n",
              "      <th>deviceProtection</th>\n",
              "      <th>techSupport</th>\n",
              "      <th>streamingTV</th>\n",
              "      <th>streamingMovies</th>\n",
              "      <th>contract</th>\n",
              "      <th>paperlessBilling</th>\n",
              "      <th>paymentMethod</th>\n",
              "      <th>monthlyCharges</th>\n",
              "      <th>totalCharges</th>\n",
              "      <th>label</th>\n",
              "    </tr>\n",
              "  </thead>\n",
              "  <tbody>\n",
              "    <tr>\n",
              "      <th>0</th>\n",
              "      <td>Female</td>\n",
              "      <td>No</td>\n",
              "      <td>Yes</td>\n",
              "      <td>No</td>\n",
              "      <td>1</td>\n",
              "      <td>No</td>\n",
              "      <td>No phone service</td>\n",
              "      <td>DSL</td>\n",
              "      <td>No</td>\n",
              "      <td>Yes</td>\n",
              "      <td>No</td>\n",
              "      <td>No</td>\n",
              "      <td>No</td>\n",
              "      <td>No</td>\n",
              "      <td>Month-to-month</td>\n",
              "      <td>Yes</td>\n",
              "      <td>Electronic check</td>\n",
              "      <td>29.85</td>\n",
              "      <td>29.85</td>\n",
              "      <td>0</td>\n",
              "    </tr>\n",
              "    <tr>\n",
              "      <th>1</th>\n",
              "      <td>Male</td>\n",
              "      <td>No</td>\n",
              "      <td>No</td>\n",
              "      <td>No</td>\n",
              "      <td>34</td>\n",
              "      <td>Yes</td>\n",
              "      <td>No</td>\n",
              "      <td>DSL</td>\n",
              "      <td>Yes</td>\n",
              "      <td>No</td>\n",
              "      <td>Yes</td>\n",
              "      <td>No</td>\n",
              "      <td>No</td>\n",
              "      <td>No</td>\n",
              "      <td>One year</td>\n",
              "      <td>No</td>\n",
              "      <td>Mailed check</td>\n",
              "      <td>56.95</td>\n",
              "      <td>1889.50</td>\n",
              "      <td>0</td>\n",
              "    </tr>\n",
              "    <tr>\n",
              "      <th>2</th>\n",
              "      <td>Male</td>\n",
              "      <td>No</td>\n",
              "      <td>No</td>\n",
              "      <td>No</td>\n",
              "      <td>2</td>\n",
              "      <td>Yes</td>\n",
              "      <td>No</td>\n",
              "      <td>DSL</td>\n",
              "      <td>Yes</td>\n",
              "      <td>Yes</td>\n",
              "      <td>No</td>\n",
              "      <td>No</td>\n",
              "      <td>No</td>\n",
              "      <td>No</td>\n",
              "      <td>Month-to-month</td>\n",
              "      <td>Yes</td>\n",
              "      <td>Mailed check</td>\n",
              "      <td>53.85</td>\n",
              "      <td>108.15</td>\n",
              "      <td>1</td>\n",
              "    </tr>\n",
              "    <tr>\n",
              "      <th>3</th>\n",
              "      <td>Male</td>\n",
              "      <td>No</td>\n",
              "      <td>No</td>\n",
              "      <td>No</td>\n",
              "      <td>45</td>\n",
              "      <td>No</td>\n",
              "      <td>No phone service</td>\n",
              "      <td>DSL</td>\n",
              "      <td>Yes</td>\n",
              "      <td>No</td>\n",
              "      <td>Yes</td>\n",
              "      <td>Yes</td>\n",
              "      <td>No</td>\n",
              "      <td>No</td>\n",
              "      <td>One year</td>\n",
              "      <td>No</td>\n",
              "      <td>Bank transfer (automatic)</td>\n",
              "      <td>42.30</td>\n",
              "      <td>1840.75</td>\n",
              "      <td>0</td>\n",
              "    </tr>\n",
              "    <tr>\n",
              "      <th>4</th>\n",
              "      <td>Female</td>\n",
              "      <td>No</td>\n",
              "      <td>No</td>\n",
              "      <td>No</td>\n",
              "      <td>2</td>\n",
              "      <td>Yes</td>\n",
              "      <td>No</td>\n",
              "      <td>Fiber optic</td>\n",
              "      <td>No</td>\n",
              "      <td>No</td>\n",
              "      <td>No</td>\n",
              "      <td>No</td>\n",
              "      <td>No</td>\n",
              "      <td>No</td>\n",
              "      <td>Month-to-month</td>\n",
              "      <td>Yes</td>\n",
              "      <td>Electronic check</td>\n",
              "      <td>70.70</td>\n",
              "      <td>151.65</td>\n",
              "      <td>1</td>\n",
              "    </tr>\n",
              "    <tr>\n",
              "      <th>...</th>\n",
              "      <td>...</td>\n",
              "      <td>...</td>\n",
              "      <td>...</td>\n",
              "      <td>...</td>\n",
              "      <td>...</td>\n",
              "      <td>...</td>\n",
              "      <td>...</td>\n",
              "      <td>...</td>\n",
              "      <td>...</td>\n",
              "      <td>...</td>\n",
              "      <td>...</td>\n",
              "      <td>...</td>\n",
              "      <td>...</td>\n",
              "      <td>...</td>\n",
              "      <td>...</td>\n",
              "      <td>...</td>\n",
              "      <td>...</td>\n",
              "      <td>...</td>\n",
              "      <td>...</td>\n",
              "      <td>...</td>\n",
              "    </tr>\n",
              "    <tr>\n",
              "      <th>7038</th>\n",
              "      <td>Male</td>\n",
              "      <td>No</td>\n",
              "      <td>Yes</td>\n",
              "      <td>Yes</td>\n",
              "      <td>24</td>\n",
              "      <td>Yes</td>\n",
              "      <td>Yes</td>\n",
              "      <td>DSL</td>\n",
              "      <td>Yes</td>\n",
              "      <td>No</td>\n",
              "      <td>Yes</td>\n",
              "      <td>Yes</td>\n",
              "      <td>Yes</td>\n",
              "      <td>Yes</td>\n",
              "      <td>One year</td>\n",
              "      <td>Yes</td>\n",
              "      <td>Mailed check</td>\n",
              "      <td>84.80</td>\n",
              "      <td>1990.50</td>\n",
              "      <td>0</td>\n",
              "    </tr>\n",
              "    <tr>\n",
              "      <th>7039</th>\n",
              "      <td>Female</td>\n",
              "      <td>No</td>\n",
              "      <td>Yes</td>\n",
              "      <td>Yes</td>\n",
              "      <td>72</td>\n",
              "      <td>Yes</td>\n",
              "      <td>Yes</td>\n",
              "      <td>Fiber optic</td>\n",
              "      <td>No</td>\n",
              "      <td>Yes</td>\n",
              "      <td>Yes</td>\n",
              "      <td>No</td>\n",
              "      <td>Yes</td>\n",
              "      <td>Yes</td>\n",
              "      <td>One year</td>\n",
              "      <td>Yes</td>\n",
              "      <td>Credit card (automatic)</td>\n",
              "      <td>103.20</td>\n",
              "      <td>7362.90</td>\n",
              "      <td>0</td>\n",
              "    </tr>\n",
              "    <tr>\n",
              "      <th>7040</th>\n",
              "      <td>Female</td>\n",
              "      <td>No</td>\n",
              "      <td>Yes</td>\n",
              "      <td>Yes</td>\n",
              "      <td>11</td>\n",
              "      <td>No</td>\n",
              "      <td>No phone service</td>\n",
              "      <td>DSL</td>\n",
              "      <td>Yes</td>\n",
              "      <td>No</td>\n",
              "      <td>No</td>\n",
              "      <td>No</td>\n",
              "      <td>No</td>\n",
              "      <td>No</td>\n",
              "      <td>Month-to-month</td>\n",
              "      <td>Yes</td>\n",
              "      <td>Electronic check</td>\n",
              "      <td>29.60</td>\n",
              "      <td>346.45</td>\n",
              "      <td>0</td>\n",
              "    </tr>\n",
              "    <tr>\n",
              "      <th>7041</th>\n",
              "      <td>Male</td>\n",
              "      <td>Yes</td>\n",
              "      <td>Yes</td>\n",
              "      <td>No</td>\n",
              "      <td>4</td>\n",
              "      <td>Yes</td>\n",
              "      <td>Yes</td>\n",
              "      <td>Fiber optic</td>\n",
              "      <td>No</td>\n",
              "      <td>No</td>\n",
              "      <td>No</td>\n",
              "      <td>No</td>\n",
              "      <td>No</td>\n",
              "      <td>No</td>\n",
              "      <td>Month-to-month</td>\n",
              "      <td>Yes</td>\n",
              "      <td>Mailed check</td>\n",
              "      <td>74.40</td>\n",
              "      <td>306.60</td>\n",
              "      <td>1</td>\n",
              "    </tr>\n",
              "    <tr>\n",
              "      <th>7042</th>\n",
              "      <td>Male</td>\n",
              "      <td>No</td>\n",
              "      <td>No</td>\n",
              "      <td>No</td>\n",
              "      <td>66</td>\n",
              "      <td>Yes</td>\n",
              "      <td>No</td>\n",
              "      <td>Fiber optic</td>\n",
              "      <td>Yes</td>\n",
              "      <td>No</td>\n",
              "      <td>Yes</td>\n",
              "      <td>Yes</td>\n",
              "      <td>Yes</td>\n",
              "      <td>Yes</td>\n",
              "      <td>Two year</td>\n",
              "      <td>Yes</td>\n",
              "      <td>Bank transfer (automatic)</td>\n",
              "      <td>105.65</td>\n",
              "      <td>6844.50</td>\n",
              "      <td>0</td>\n",
              "    </tr>\n",
              "  </tbody>\n",
              "</table>\n",
              "<p>7043 rows × 20 columns</p>\n",
              "</div>"
            ],
            "text/plain": [
              "      gender seniorCitizen partner  ... monthlyCharges  totalCharges label\n",
              "0     Female            No     Yes  ...          29.85         29.85     0\n",
              "1       Male            No      No  ...          56.95       1889.50     0\n",
              "2       Male            No      No  ...          53.85        108.15     1\n",
              "3       Male            No      No  ...          42.30       1840.75     0\n",
              "4     Female            No      No  ...          70.70        151.65     1\n",
              "...      ...           ...     ...  ...            ...           ...   ...\n",
              "7038    Male            No     Yes  ...          84.80       1990.50     0\n",
              "7039  Female            No     Yes  ...         103.20       7362.90     0\n",
              "7040  Female            No     Yes  ...          29.60        346.45     0\n",
              "7041    Male           Yes     Yes  ...          74.40        306.60     1\n",
              "7042    Male            No      No  ...         105.65       6844.50     0\n",
              "\n",
              "[7043 rows x 20 columns]"
            ]
          },
          "metadata": {
            "tags": []
          },
          "execution_count": 4
        }
      ]
    },
    {
      "cell_type": "code",
      "metadata": {
        "id": "yRWevli8iKpr"
      },
      "source": [
        "#Identify categorcal & continuous variables\n",
        "continuous, categorical = [], []\n",
        "\n",
        "for col in [c for c in telcodf.columns if c != 'label']:\n",
        "    if is_numeric_dtype(telcodf[col]):\n",
        "        continuous.append(col)\n",
        "    else:\n",
        "        categorical.append(col)"
      ],
      "execution_count": 5,
      "outputs": []
    },
    {
      "cell_type": "code",
      "metadata": {
        "id": "oOHrDqviiKnL"
      },
      "source": [
        "#Create dummy variables for categorical variables:\n",
        "dummy_gender = pd.get_dummies(telcodf['gender'])\n",
        "dummy_srcitizen = pd.get_dummies(telcodf['seniorCitizen'])\n",
        "dummy_partner  = pd.get_dummies(telcodf['partner'])\n",
        "dummy_dependents = pd.get_dummies(telcodf['dependents'])\n",
        "dummy_paperlessBilling  = pd.get_dummies(telcodf['paperlessBilling'])\n",
        "dummy_paymentMethod = pd.get_dummies(telcodf['paymentMethod'])\n",
        "dummy_contract = pd.get_dummies(telcodf['contract'])\n",
        "dummy_streamingMovies = pd.get_dummies(telcodf['streamingMovies'])\n",
        "dummy_streamingTV = pd.get_dummies(telcodf['streamingTV'])\n",
        "dummy_techSupport = pd.get_dummies(telcodf['techSupport'])\n",
        "dummy_deviceProtection = pd.get_dummies(telcodf['deviceProtection'])\n",
        "dummy_onlineBackup = pd.get_dummies(telcodf['onlineBackup'])\n",
        "dummy_onlineSecurity = pd.get_dummies(telcodf['onlineSecurity'])\n",
        "dummy_internetService = pd.get_dummies(telcodf['internetService'])\n",
        "dummy_multipleLines = pd.get_dummies(telcodf['multipleLines'])\n",
        "dummy_phoneService = pd.get_dummies(telcodf['phoneService'])"
      ],
      "execution_count": 6,
      "outputs": []
    },
    {
      "cell_type": "code",
      "metadata": {
        "colab": {
          "base_uri": "https://localhost:8080/",
          "height": 255
        },
        "id": "JkXMZa2riKkb",
        "outputId": "3191118f-6b29-4b7d-d918-33a7a8583db4"
      },
      "source": [
        "telcodf_rf = pd.concat([telcodf[continuous], telcodf['label'],dummy_gender, dummy_srcitizen, dummy_partner, dummy_dependents, dummy_paperlessBilling, dummy_paymentMethod, dummy_contract, dummy_streamingMovies, dummy_streamingTV,dummy_techSupport, dummy_deviceProtection,dummy_onlineBackup,dummy_onlineSecurity,dummy_internetService,dummy_multipleLines,dummy_phoneService],axis=1)\n",
        "telcodf_rf.sample(5)"
      ],
      "execution_count": 7,
      "outputs": [
        {
          "output_type": "execute_result",
          "data": {
            "text/html": [
              "<div>\n",
              "<style scoped>\n",
              "    .dataframe tbody tr th:only-of-type {\n",
              "        vertical-align: middle;\n",
              "    }\n",
              "\n",
              "    .dataframe tbody tr th {\n",
              "        vertical-align: top;\n",
              "    }\n",
              "\n",
              "    .dataframe thead th {\n",
              "        text-align: right;\n",
              "    }\n",
              "</style>\n",
              "<table border=\"1\" class=\"dataframe\">\n",
              "  <thead>\n",
              "    <tr style=\"text-align: right;\">\n",
              "      <th></th>\n",
              "      <th>tenure</th>\n",
              "      <th>monthlyCharges</th>\n",
              "      <th>totalCharges</th>\n",
              "      <th>label</th>\n",
              "      <th>Female</th>\n",
              "      <th>Male</th>\n",
              "      <th>No</th>\n",
              "      <th>Yes</th>\n",
              "      <th>No</th>\n",
              "      <th>Yes</th>\n",
              "      <th>No</th>\n",
              "      <th>Yes</th>\n",
              "      <th>No</th>\n",
              "      <th>Yes</th>\n",
              "      <th>Bank transfer (automatic)</th>\n",
              "      <th>Credit card (automatic)</th>\n",
              "      <th>Electronic check</th>\n",
              "      <th>Mailed check</th>\n",
              "      <th>Month-to-month</th>\n",
              "      <th>One year</th>\n",
              "      <th>Two year</th>\n",
              "      <th>No</th>\n",
              "      <th>No internet service</th>\n",
              "      <th>Yes</th>\n",
              "      <th>No</th>\n",
              "      <th>No internet service</th>\n",
              "      <th>Yes</th>\n",
              "      <th>No</th>\n",
              "      <th>No internet service</th>\n",
              "      <th>Yes</th>\n",
              "      <th>No</th>\n",
              "      <th>No internet service</th>\n",
              "      <th>Yes</th>\n",
              "      <th>No</th>\n",
              "      <th>No internet service</th>\n",
              "      <th>Yes</th>\n",
              "      <th>No</th>\n",
              "      <th>No internet service</th>\n",
              "      <th>Yes</th>\n",
              "      <th>DSL</th>\n",
              "      <th>Fiber optic</th>\n",
              "      <th>No</th>\n",
              "      <th>No</th>\n",
              "      <th>No phone service</th>\n",
              "      <th>Yes</th>\n",
              "      <th>No</th>\n",
              "      <th>Yes</th>\n",
              "    </tr>\n",
              "  </thead>\n",
              "  <tbody>\n",
              "    <tr>\n",
              "      <th>6195</th>\n",
              "      <td>4</td>\n",
              "      <td>72.2</td>\n",
              "      <td>305.55</td>\n",
              "      <td>1</td>\n",
              "      <td>0</td>\n",
              "      <td>1</td>\n",
              "      <td>1</td>\n",
              "      <td>0</td>\n",
              "      <td>1</td>\n",
              "      <td>0</td>\n",
              "      <td>1</td>\n",
              "      <td>0</td>\n",
              "      <td>0</td>\n",
              "      <td>1</td>\n",
              "      <td>1</td>\n",
              "      <td>0</td>\n",
              "      <td>0</td>\n",
              "      <td>0</td>\n",
              "      <td>1</td>\n",
              "      <td>0</td>\n",
              "      <td>0</td>\n",
              "      <td>1</td>\n",
              "      <td>0</td>\n",
              "      <td>0</td>\n",
              "      <td>1</td>\n",
              "      <td>0</td>\n",
              "      <td>0</td>\n",
              "      <td>1</td>\n",
              "      <td>0</td>\n",
              "      <td>0</td>\n",
              "      <td>1</td>\n",
              "      <td>0</td>\n",
              "      <td>0</td>\n",
              "      <td>1</td>\n",
              "      <td>0</td>\n",
              "      <td>0</td>\n",
              "      <td>1</td>\n",
              "      <td>0</td>\n",
              "      <td>0</td>\n",
              "      <td>0</td>\n",
              "      <td>1</td>\n",
              "      <td>0</td>\n",
              "      <td>0</td>\n",
              "      <td>0</td>\n",
              "      <td>1</td>\n",
              "      <td>0</td>\n",
              "      <td>1</td>\n",
              "    </tr>\n",
              "    <tr>\n",
              "      <th>1835</th>\n",
              "      <td>1</td>\n",
              "      <td>45.0</td>\n",
              "      <td>45.00</td>\n",
              "      <td>0</td>\n",
              "      <td>1</td>\n",
              "      <td>0</td>\n",
              "      <td>1</td>\n",
              "      <td>0</td>\n",
              "      <td>0</td>\n",
              "      <td>1</td>\n",
              "      <td>1</td>\n",
              "      <td>0</td>\n",
              "      <td>0</td>\n",
              "      <td>1</td>\n",
              "      <td>0</td>\n",
              "      <td>0</td>\n",
              "      <td>1</td>\n",
              "      <td>0</td>\n",
              "      <td>1</td>\n",
              "      <td>0</td>\n",
              "      <td>0</td>\n",
              "      <td>1</td>\n",
              "      <td>0</td>\n",
              "      <td>0</td>\n",
              "      <td>1</td>\n",
              "      <td>0</td>\n",
              "      <td>0</td>\n",
              "      <td>1</td>\n",
              "      <td>0</td>\n",
              "      <td>0</td>\n",
              "      <td>1</td>\n",
              "      <td>0</td>\n",
              "      <td>0</td>\n",
              "      <td>1</td>\n",
              "      <td>0</td>\n",
              "      <td>0</td>\n",
              "      <td>1</td>\n",
              "      <td>0</td>\n",
              "      <td>0</td>\n",
              "      <td>1</td>\n",
              "      <td>0</td>\n",
              "      <td>0</td>\n",
              "      <td>1</td>\n",
              "      <td>0</td>\n",
              "      <td>0</td>\n",
              "      <td>0</td>\n",
              "      <td>1</td>\n",
              "    </tr>\n",
              "    <tr>\n",
              "      <th>2888</th>\n",
              "      <td>1</td>\n",
              "      <td>71.0</td>\n",
              "      <td>71.00</td>\n",
              "      <td>1</td>\n",
              "      <td>1</td>\n",
              "      <td>0</td>\n",
              "      <td>0</td>\n",
              "      <td>1</td>\n",
              "      <td>1</td>\n",
              "      <td>0</td>\n",
              "      <td>0</td>\n",
              "      <td>1</td>\n",
              "      <td>0</td>\n",
              "      <td>1</td>\n",
              "      <td>0</td>\n",
              "      <td>0</td>\n",
              "      <td>1</td>\n",
              "      <td>0</td>\n",
              "      <td>1</td>\n",
              "      <td>0</td>\n",
              "      <td>0</td>\n",
              "      <td>1</td>\n",
              "      <td>0</td>\n",
              "      <td>0</td>\n",
              "      <td>1</td>\n",
              "      <td>0</td>\n",
              "      <td>0</td>\n",
              "      <td>1</td>\n",
              "      <td>0</td>\n",
              "      <td>0</td>\n",
              "      <td>1</td>\n",
              "      <td>0</td>\n",
              "      <td>0</td>\n",
              "      <td>1</td>\n",
              "      <td>0</td>\n",
              "      <td>0</td>\n",
              "      <td>1</td>\n",
              "      <td>0</td>\n",
              "      <td>0</td>\n",
              "      <td>0</td>\n",
              "      <td>1</td>\n",
              "      <td>0</td>\n",
              "      <td>1</td>\n",
              "      <td>0</td>\n",
              "      <td>0</td>\n",
              "      <td>0</td>\n",
              "      <td>1</td>\n",
              "    </tr>\n",
              "    <tr>\n",
              "      <th>1528</th>\n",
              "      <td>19</td>\n",
              "      <td>56.2</td>\n",
              "      <td>1093.40</td>\n",
              "      <td>0</td>\n",
              "      <td>1</td>\n",
              "      <td>0</td>\n",
              "      <td>1</td>\n",
              "      <td>0</td>\n",
              "      <td>1</td>\n",
              "      <td>0</td>\n",
              "      <td>1</td>\n",
              "      <td>0</td>\n",
              "      <td>0</td>\n",
              "      <td>1</td>\n",
              "      <td>0</td>\n",
              "      <td>0</td>\n",
              "      <td>1</td>\n",
              "      <td>0</td>\n",
              "      <td>1</td>\n",
              "      <td>0</td>\n",
              "      <td>0</td>\n",
              "      <td>0</td>\n",
              "      <td>0</td>\n",
              "      <td>1</td>\n",
              "      <td>1</td>\n",
              "      <td>0</td>\n",
              "      <td>0</td>\n",
              "      <td>1</td>\n",
              "      <td>0</td>\n",
              "      <td>0</td>\n",
              "      <td>1</td>\n",
              "      <td>0</td>\n",
              "      <td>0</td>\n",
              "      <td>1</td>\n",
              "      <td>0</td>\n",
              "      <td>0</td>\n",
              "      <td>1</td>\n",
              "      <td>0</td>\n",
              "      <td>0</td>\n",
              "      <td>1</td>\n",
              "      <td>0</td>\n",
              "      <td>0</td>\n",
              "      <td>1</td>\n",
              "      <td>0</td>\n",
              "      <td>0</td>\n",
              "      <td>0</td>\n",
              "      <td>1</td>\n",
              "    </tr>\n",
              "    <tr>\n",
              "      <th>2069</th>\n",
              "      <td>1</td>\n",
              "      <td>95.6</td>\n",
              "      <td>95.60</td>\n",
              "      <td>1</td>\n",
              "      <td>1</td>\n",
              "      <td>0</td>\n",
              "      <td>1</td>\n",
              "      <td>0</td>\n",
              "      <td>1</td>\n",
              "      <td>0</td>\n",
              "      <td>1</td>\n",
              "      <td>0</td>\n",
              "      <td>0</td>\n",
              "      <td>1</td>\n",
              "      <td>0</td>\n",
              "      <td>0</td>\n",
              "      <td>1</td>\n",
              "      <td>0</td>\n",
              "      <td>1</td>\n",
              "      <td>0</td>\n",
              "      <td>0</td>\n",
              "      <td>0</td>\n",
              "      <td>0</td>\n",
              "      <td>1</td>\n",
              "      <td>0</td>\n",
              "      <td>0</td>\n",
              "      <td>1</td>\n",
              "      <td>1</td>\n",
              "      <td>0</td>\n",
              "      <td>0</td>\n",
              "      <td>1</td>\n",
              "      <td>0</td>\n",
              "      <td>0</td>\n",
              "      <td>1</td>\n",
              "      <td>0</td>\n",
              "      <td>0</td>\n",
              "      <td>0</td>\n",
              "      <td>0</td>\n",
              "      <td>1</td>\n",
              "      <td>0</td>\n",
              "      <td>1</td>\n",
              "      <td>0</td>\n",
              "      <td>1</td>\n",
              "      <td>0</td>\n",
              "      <td>0</td>\n",
              "      <td>0</td>\n",
              "      <td>1</td>\n",
              "    </tr>\n",
              "  </tbody>\n",
              "</table>\n",
              "</div>"
            ],
            "text/plain": [
              "      tenure  monthlyCharges  totalCharges  ...  Yes  No  Yes\n",
              "6195       4            72.2        305.55  ...    1   0    1\n",
              "1835       1            45.0         45.00  ...    0   0    1\n",
              "2888       1            71.0         71.00  ...    0   0    1\n",
              "1528      19            56.2       1093.40  ...    0   0    1\n",
              "2069       1            95.6         95.60  ...    0   0    1\n",
              "\n",
              "[5 rows x 47 columns]"
            ]
          },
          "metadata": {
            "tags": []
          },
          "execution_count": 7
        }
      ]
    },
    {
      "cell_type": "markdown",
      "metadata": {
        "id": "oYlqh_OTBxQ9"
      },
      "source": [
        "Run Random Classifier on the one-hot encoded categorical data"
      ]
    },
    {
      "cell_type": "code",
      "metadata": {
        "colab": {
          "base_uri": "https://localhost:8080/"
        },
        "id": "Z6BuqGc2iKha",
        "outputId": "dce1b612-b18d-41eb-8f54-539566c3b5b4"
      },
      "source": [
        "x_train,x_test,y_train,y_test = train_test_split(telcodf_rf.drop(['label'],axis=1),telcodf_rf['label'],train_size = 0.7,random_state=42)\n",
        "           \n",
        "rf_fit = RandomForestClassifier(n_estimators=1000,criterion=\"gini\",max_depth=100,min_samples_split=3,min_samples_leaf=2)\n",
        "rf_fit.fit(x_train,y_train)           \n",
        "\n",
        "print (\"\\nRandom Forest - Train Confusion Matrix\\n\\n\",pd.crosstab(y_train,rf_fit.predict(x_train),rownames = [\"Actual\"],colnames = [\"Predicted\"]))      \n",
        "print (\"\\nRandom Forest - Train accuracy\",round(accuracy_score(y_train,rf_fit.predict(x_train)),3))\n",
        "\n",
        "print (\"\\n\\nRandom Forest - Test Confusion Matrix\\n\\n\",pd.crosstab(y_test,rf_fit.predict(x_test),rownames = [\"Actual\"],colnames = [\"Predicted\"]))      \n",
        "print (\"\\nRandom Forest - Test accuracy\",round(accuracy_score(y_test,rf_fit.predict(x_test)),3))"
      ],
      "execution_count": 8,
      "outputs": [
        {
          "output_type": "stream",
          "text": [
            "\n",
            "Random Forest - Train Confusion Matrix\n",
            "\n",
            " Predicted     0     1\n",
            "Actual               \n",
            "0          3553    82\n",
            "1           257  1038\n",
            "\n",
            "Random Forest - Train accuracy 0.931\n",
            "\n",
            "\n",
            "Random Forest - Test Confusion Matrix\n",
            "\n",
            " Predicted     0    1\n",
            "Actual              \n",
            "0          1403  136\n",
            "1           287  287\n",
            "\n",
            "Random Forest - Test accuracy 0.8\n"
          ],
          "name": "stdout"
        }
      ]
    },
    {
      "cell_type": "markdown",
      "metadata": {
        "id": "FEUjbdbfCIRU"
      },
      "source": [
        "The accuracy for Testing is 0.8 which is a good fit and it is lesser than the Training which is 0.92"
      ]
    },
    {
      "cell_type": "code",
      "metadata": {
        "colab": {
          "base_uri": "https://localhost:8080/",
          "height": 294
        },
        "id": "qp8k_HJ0iKeT",
        "outputId": "437503bc-733a-491d-b8da-2adf1e2b731d"
      },
      "source": [
        "rf_roc_auc = roc_auc_score(y_test, rf_fit.predict(x_test))\n",
        "fpr, tpr, thresholds = roc_curve(y_test, rf_fit.predict_proba(x_test)[:,1])\n",
        "plt.figure()\n",
        "plt.plot(fpr, tpr, label='Random Forest Classification (area = %0.2f)' % rf_roc_auc)\n",
        "plt.plot([0, 1], [0, 1],'r--')\n",
        "plt.xlim([0.0, 1.0])\n",
        "plt.ylim([0.0, 1.05])\n",
        "plt.xlabel('False Positive Rate')\n",
        "plt.ylabel('True Positive Rate')\n",
        "plt.title('Receiver operating characteristic ROC')\n",
        "plt.legend(loc=\"lower right\")\n",
        "\n",
        "plt.show()"
      ],
      "execution_count": null,
      "outputs": [
        {
          "output_type": "display_data",
          "data": {
            "image/png": "[encoded data removed]",
            "text/plain": [
              "<Figure size 432x288 with 1 Axes>"
            ]
          },
          "metadata": {
            "tags": [],
            "needs_background": "light"
          }
        }
      ]
    },
    {
      "cell_type": "markdown",
      "metadata": {
        "id": "l3pAgXdcCn_1"
      },
      "source": [
        "The ROC curve looks fine with area coverage of 0.7"
      ]
    },
    {
      "cell_type": "markdown",
      "metadata": {
        "id": "5N68cFoXDPMF"
      },
      "source": [
        "ROC AUC Score of 0.84 looks fine and acceptable"
      ]
    },
    {
      "cell_type": "code",
      "metadata": {
        "colab": {
          "base_uri": "https://localhost:8080/"
        },
        "id": "oEsX_DmYiKay",
        "outputId": "aa5e7a4e-54a7-4621-fd7f-24291166cbe7"
      },
      "source": [
        "y_pred_proba = rf_fit.predict_proba(x_test)[::,1]\n",
        "roc_auc_score(y_test, y_pred_proba)"
      ],
      "execution_count": null,
      "outputs": [
        {
          "output_type": "execute_result",
          "data": {
            "text/plain": [
              "0.8496365122381383"
            ]
          },
          "metadata": {
            "tags": []
          },
          "execution_count": 39
        }
      ]
    },
    {
      "cell_type": "markdown",
      "metadata": {
        "id": "Yfw2c6enD26-"
      },
      "source": [
        "Visualize the Decision Tree in a tree.png file"
      ]
    },
    {
      "cell_type": "code",
      "metadata": {
        "id": "5X6b4sjciKXq"
      },
      "source": [
        "# Import tools needed for visualization\n",
        "from sklearn.tree import export_graphviz\n",
        "import pydot\n",
        "# Pull out one tree from the forest\n",
        "tree = rf_fit.estimators_[5]\n",
        "# Export the image to a dot file\n",
        "export_graphviz(tree, out_file = 'tree.dot', rounded = True, precision = 1)\n",
        "# Use dot file to create a graph\n",
        "(graph, ) = pydot.graph_from_dot_file('tree.dot')\n",
        "# Write graph to a png file\n",
        "graph.write_png('/content/drive/MyDrive/Colab Notebooks/Data/tree.png')"
      ],
      "execution_count": null,
      "outputs": []
    },
    {
      "cell_type": "code",
      "metadata": {
        "colab": {
          "base_uri": "https://localhost:8080/"
        },
        "id": "B3Yyb5y3KEMp",
        "outputId": "d56657e3-3dbf-43db-9fb3-69d0ff2cfc00"
      },
      "source": [
        "feature_list = list(telcodf.drop(columns=['customerID','churn','label']).columns)\n",
        "feature_list"
      ],
      "execution_count": null,
      "outputs": [
        {
          "output_type": "execute_result",
          "data": {
            "text/plain": [
              "['gender',\n",
              " 'seniorCitizen',\n",
              " 'partner',\n",
              " 'dependents',\n",
              " 'tenure',\n",
              " 'phoneService',\n",
              " 'multipleLines',\n",
              " 'internetService',\n",
              " 'onlineSecurity',\n",
              " 'onlineBackup',\n",
              " 'deviceProtection',\n",
              " 'techSupport',\n",
              " 'streamingTV',\n",
              " 'streamingMovies',\n",
              " 'contract',\n",
              " 'paperlessBilling',\n",
              " 'paymentMethod',\n",
              " 'monthlyCharges',\n",
              " 'totalCharges']"
            ]
          },
          "metadata": {
            "tags": []
          },
          "execution_count": 28
        }
      ]
    },
    {
      "cell_type": "markdown",
      "metadata": {
        "id": "Fxn7lgMBS0SZ"
      },
      "source": [
        "Feature Importance evaluation for predictive power\n",
        "The top variables contribute more to the model than the bottom ones and also have high predictive power in\n",
        "classifying default and non-default customers."
      ]
    },
    {
      "cell_type": "code",
      "metadata": {
        "colab": {
          "base_uri": "https://localhost:8080/"
        },
        "id": "JAehX73TiKQE",
        "outputId": "17e9323c-e9d3-45bb-e699-af411fd1be11"
      },
      "source": [
        "# Get numerical feature importances\n",
        "\n",
        "importances = list(rf_fit.feature_importances_)\n",
        "# List of tuples with variable and importance\n",
        "feature_importances = [(feature, round(importance, 2)) for feature, importance in zip(feature_list, importances)]\n",
        "# Sort the feature importances by most important first\n",
        "feature_importances = sorted(feature_importances, key = lambda x: x[1], reverse = True)\n",
        "# Print out the feature and importances \n",
        "[print('Variable: {:20} Importance: {}'.format(*pair)) for pair in feature_importances];"
      ],
      "execution_count": null,
      "outputs": [
        {
          "output_type": "stream",
          "text": [
            "Variable: gender               Importance: 0.15\n",
            "Variable: partner              Importance: 0.15\n",
            "Variable: seniorCitizen        Importance: 0.12\n",
            "Variable: paperlessBilling     Importance: 0.07\n",
            "Variable: streamingMovies      Importance: 0.03\n",
            "Variable: monthlyCharges       Importance: 0.02\n",
            "Variable: dependents           Importance: 0.01\n",
            "Variable: tenure               Importance: 0.01\n",
            "Variable: phoneService         Importance: 0.01\n",
            "Variable: multipleLines        Importance: 0.01\n",
            "Variable: internetService      Importance: 0.01\n",
            "Variable: onlineSecurity       Importance: 0.01\n",
            "Variable: onlineBackup         Importance: 0.01\n",
            "Variable: deviceProtection     Importance: 0.01\n",
            "Variable: techSupport          Importance: 0.01\n",
            "Variable: streamingTV          Importance: 0.01\n",
            "Variable: contract             Importance: 0.01\n",
            "Variable: paymentMethod        Importance: 0.01\n",
            "Variable: totalCharges         Importance: 0.01\n"
          ],
          "name": "stdout"
        }
      ]
    },
    {
      "cell_type": "code",
      "metadata": {
        "id": "fqQKc_QdOCKP"
      },
      "source": [
        "telcodf_rf"
      ],
      "execution_count": null,
      "outputs": []
    },
    {
      "cell_type": "code",
      "metadata": {
        "colab": {
          "base_uri": "https://localhost:8080/",
          "height": 110
        },
        "id": "wCYyCwj9Liy3",
        "outputId": "d09c0d63-f732-44b2-ad5d-c5b87e631179"
      },
      "source": [
        "telcodf_impfeatures = pd.concat([dummy_gender, dummy_srcitizen, dummy_partner, dummy_paperlessBilling, dummy_streamingMovies, telcodf[['monthlyCharges','label']]], axis=1)\n",
        "telcodf_impfeatures.head(2)\n"
      ],
      "execution_count": 9,
      "outputs": [
        {
          "output_type": "execute_result",
          "data": {
            "text/html": [
              "<div>\n",
              "<style scoped>\n",
              "    .dataframe tbody tr th:only-of-type {\n",
              "        vertical-align: middle;\n",
              "    }\n",
              "\n",
              "    .dataframe tbody tr th {\n",
              "        vertical-align: top;\n",
              "    }\n",
              "\n",
              "    .dataframe thead th {\n",
              "        text-align: right;\n",
              "    }\n",
              "</style>\n",
              "<table border=\"1\" class=\"dataframe\">\n",
              "  <thead>\n",
              "    <tr style=\"text-align: right;\">\n",
              "      <th></th>\n",
              "      <th>Female</th>\n",
              "      <th>Male</th>\n",
              "      <th>No</th>\n",
              "      <th>Yes</th>\n",
              "      <th>No</th>\n",
              "      <th>Yes</th>\n",
              "      <th>No</th>\n",
              "      <th>Yes</th>\n",
              "      <th>No</th>\n",
              "      <th>No internet service</th>\n",
              "      <th>Yes</th>\n",
              "      <th>monthlyCharges</th>\n",
              "      <th>label</th>\n",
              "    </tr>\n",
              "  </thead>\n",
              "  <tbody>\n",
              "    <tr>\n",
              "      <th>0</th>\n",
              "      <td>1</td>\n",
              "      <td>0</td>\n",
              "      <td>1</td>\n",
              "      <td>0</td>\n",
              "      <td>0</td>\n",
              "      <td>1</td>\n",
              "      <td>0</td>\n",
              "      <td>1</td>\n",
              "      <td>1</td>\n",
              "      <td>0</td>\n",
              "      <td>0</td>\n",
              "      <td>29.85</td>\n",
              "      <td>0</td>\n",
              "    </tr>\n",
              "    <tr>\n",
              "      <th>1</th>\n",
              "      <td>0</td>\n",
              "      <td>1</td>\n",
              "      <td>1</td>\n",
              "      <td>0</td>\n",
              "      <td>1</td>\n",
              "      <td>0</td>\n",
              "      <td>1</td>\n",
              "      <td>0</td>\n",
              "      <td>1</td>\n",
              "      <td>0</td>\n",
              "      <td>0</td>\n",
              "      <td>56.95</td>\n",
              "      <td>0</td>\n",
              "    </tr>\n",
              "  </tbody>\n",
              "</table>\n",
              "</div>"
            ],
            "text/plain": [
              "   Female  Male  No  Yes  ...  No internet service  Yes  monthlyCharges  label\n",
              "0       1     0   1    0  ...                    0    0           29.85      0\n",
              "1       0     1   1    0  ...                    0    0           56.95      0\n",
              "\n",
              "[2 rows x 13 columns]"
            ]
          },
          "metadata": {
            "tags": []
          },
          "execution_count": 9
        }
      ]
    },
    {
      "cell_type": "markdown",
      "metadata": {
        "id": "viXh4mhvMsmV"
      },
      "source": [
        "Run the Random Forest Classifier again with features selected as important"
      ]
    },
    {
      "cell_type": "code",
      "metadata": {
        "colab": {
          "base_uri": "https://localhost:8080/"
        },
        "id": "OLmZC6IlLivn",
        "outputId": "a9c69b20-352c-46bf-d15a-91cc507d794a"
      },
      "source": [
        "x_train,x_test,y_train,y_test = train_test_split(telcodf_impfeatures.drop(['label'],axis=1),telcodf_impfeatures['label'],train_size = 0.7,random_state=42)\n",
        "           \n",
        "rf_fit_imp = RandomForestClassifier(n_estimators=1000,criterion=\"gini\",max_depth=100,min_samples_split=3,min_samples_leaf=2)\n",
        "rf_fit_imp.fit(x_train,y_train)           \n",
        "\n",
        "print (\"\\nRandom Forest - Train Confusion Matrix\\n\\n\",pd.crosstab(y_train,rf_fit_imp.predict(x_train),rownames = [\"Actual\"],colnames = [\"Predicted\"]))      \n",
        "print (\"\\nRandom Forest - Train accuracy\",round(accuracy_score(y_train,rf_fit_imp.predict(x_train)),3))\n",
        "\n",
        "print (\"\\n\\nRandom Forest - Test Confusion Matrix\\n\\n\",pd.crosstab(y_test,rf_fit_imp.predict(x_test),rownames = [\"Actual\"],colnames = [\"Predicted\"]))      \n",
        "print (\"\\nRandom Forest - Test accuracy\",round(accuracy_score(y_test,rf_fit_imp.predict(x_test)),3))"
      ],
      "execution_count": null,
      "outputs": [
        {
          "output_type": "stream",
          "text": [
            "\n",
            "Random Forest - Train Confusion Matrix\n",
            "\n",
            " Predicted     0    1\n",
            "Actual              \n",
            "0          3465  170\n",
            "1           465  830\n",
            "\n",
            "Random Forest - Train accuracy 0.871\n",
            "\n",
            "\n",
            "Random Forest - Test Confusion Matrix\n",
            "\n",
            " Predicted     0    1\n",
            "Actual              \n",
            "0          1311  228\n",
            "1           367  207\n",
            "\n",
            "Random Forest - Test accuracy 0.718\n"
          ],
          "name": "stdout"
        }
      ]
    },
    {
      "cell_type": "code",
      "metadata": {
        "colab": {
          "base_uri": "https://localhost:8080/"
        },
        "id": "_IhLfEnILitI",
        "outputId": "2182f777-52ba-4f99-8a81-0d62953a6779"
      },
      "source": [
        "y_pred_proba = rf_fit_imp.predict_proba(x_test)[::,1]\n",
        "roc_auc_score(y_test, y_pred_proba)"
      ],
      "execution_count": null,
      "outputs": [
        {
          "output_type": "execute_result",
          "data": {
            "text/plain": [
              "0.672327272562617"
            ]
          },
          "metadata": {
            "tags": []
          },
          "execution_count": 66
        }
      ]
    },
    {
      "cell_type": "markdown",
      "metadata": {
        "id": "XewdIl7HTCMJ"
      },
      "source": [
        "Grid search has been performed by changing various hyperparameters"
      ]
    },
    {
      "cell_type": "code",
      "metadata": {
        "id": "VDKti-czLiqa",
        "colab": {
          "base_uri": "https://localhost:8080/"
        },
        "outputId": "bb37eb6a-808d-49d1-ae4f-b7b23f5bbc1f"
      },
      "source": [
        "# Grid Search\n",
        "from sklearn.pipeline import Pipeline\n",
        "from sklearn.model_selection import train_test_split,GridSearchCV\n",
        "\n",
        "pipeline = Pipeline([('clf',RandomForestClassifier(criterion='gini'))])\n",
        "\n",
        "parameters = {\n",
        "        'clf__n_estimators':(1000,2000,3000),\n",
        "        'clf__max_depth':(100,200,300),\n",
        "        'clf__min_samples_split':(2,3),\n",
        "        'clf__min_samples_leaf':(1,2)  }\n",
        "\n",
        "grid_search = GridSearchCV(pipeline,parameters,n_jobs=-1,cv=5,verbose=1,scoring='accuracy')\n",
        "grid_search.fit(x_train,y_train)\n",
        "\n",
        "print ('Best Training score: %0.3f' % grid_search.best_score_)\n",
        "print ('Best parameters set:')\n",
        "best_parameters = grid_search.best_estimator_.get_params()\n",
        "for param_name in sorted(parameters.keys()):\n",
        "    print ('\\t%s: %r' % (param_name, best_parameters[param_name]))\n",
        "\n",
        "predictions = grid_search.predict(x_test)\n",
        "\n",
        "print (\"Testing accuracy:\",round(accuracy_score(y_test, predictions),4))\n",
        "print (\"\\nComplete report of Testing data\\n\",classification_report(y_test, predictions))\n",
        "\n",
        "print (\"\\n\\nRandom Forest Grid Search- Test Confusion Matrix\\n\\n\",pd.crosstab(y_test, predictions,rownames = [\"Actual\"],colnames = [\"Predicted\"])) "
      ],
      "execution_count": 10,
      "outputs": [
        {
          "output_type": "stream",
          "text": [
            "Fitting 5 folds for each of 36 candidates, totalling 180 fits\n"
          ],
          "name": "stdout"
        },
        {
          "output_type": "stream",
          "text": [
            "[Parallel(n_jobs=-1)]: Using backend LokyBackend with 2 concurrent workers.\n",
            "/usr/local/lib/python3.7/dist-packages/joblib/externals/loky/process_executor.py:691: UserWarning: A worker stopped while some jobs were given to the executor. This can be caused by a too short worker timeout or by a memory leak.\n",
            "  \"timeout or by a memory leak.\", UserWarning\n",
            "[Parallel(n_jobs=-1)]: Done  46 tasks      | elapsed:  5.9min\n",
            "[Parallel(n_jobs=-1)]: Done 180 out of 180 | elapsed: 22.5min finished\n"
          ],
          "name": "stderr"
        },
        {
          "output_type": "stream",
          "text": [
            "Best Training score: 0.795\n",
            "Best parameters set:\n",
            "\tclf__max_depth: 200\n",
            "\tclf__min_samples_leaf: 2\n",
            "\tclf__min_samples_split: 2\n",
            "\tclf__n_estimators: 1000\n",
            "Testing accuracy: 0.8017\n",
            "\n",
            "Complete report of Testing data\n",
            "               precision    recall  f1-score   support\n",
            "\n",
            "           0       0.83      0.91      0.87      1539\n",
            "           1       0.68      0.50      0.58       574\n",
            "\n",
            "    accuracy                           0.80      2113\n",
            "   macro avg       0.76      0.71      0.72      2113\n",
            "weighted avg       0.79      0.80      0.79      2113\n",
            "\n",
            "\n",
            "\n",
            "Random Forest Grid Search- Test Confusion Matrix\n",
            "\n",
            " Predicted     0    1\n",
            "Actual              \n",
            "0          1407  132\n",
            "1           287  287\n"
          ],
          "name": "stdout"
        }
      ]
    },
    {
      "cell_type": "markdown",
      "metadata": {
        "id": "HTPPFjC3buMQ"
      },
      "source": [
        "## **Conclusion**: The GridSearchCV has wrongly categorized 287 customers as non-churn who would churn - this is an improvement by 35 customers compared to Logistic Regression approach"
      ]
    },
    {
      "cell_type": "code",
      "metadata": {
        "id": "3jRmjxbFLiky"
      },
      "source": [
        ""
      ],
      "execution_count": null,
      "outputs": []
    },
    {
      "cell_type": "code",
      "metadata": {
        "id": "x5FLs2oWLiiU"
      },
      "source": [
        ""
      ],
      "execution_count": null,
      "outputs": []
    }
  ]
}