{
  "nbformat": 4,
  "nbformat_minor": 0,
  "metadata": {
    "colab": {
      "name": "Lasso_Ridge_Regression.ipynb",
      "provenance": [],
      "mount_file_id": "1prftYlQuFSQ_2TikTkMNMX0zFZfBFeIX",
      "authorship_tag": "ABX9TyM5p5XxX7AO7yysAJUOWB2Z",
      "include_colab_link": true
    },
    "kernelspec": {
      "name": "python3",
      "display_name": "Python 3"
    },
    "language_info": {
      "name": "python"
    }
  },
  "cells": [
    {
      "cell_type": "markdown",
      "metadata": {
        "id": "view-in-github",
        "colab_type": "text"
      },
      "source": [
        "<a href=\"https://colab.research.google.com/github/ravirajgm/Raviraj_Data_Science_Case_Studies/blob/main/Lasso_Ridge_Regression.ipynb\" target=\"_parent\"><img src=\"https://colab.research.google.com/assets/colab-badge.svg\" alt=\"Open In Colab\"/></a>"
      ]
    },
    {
      "cell_type": "markdown",
      "metadata": {
        "id": "B5pNKiA5uqa0"
      },
      "source": [
        "Types of Regularized Regression\n",
        "Two commonly used types of regularized regression methods are ridge regression and lasso regression.\n",
        "\n",
        "Ridge regression is a way to create a parsimonious model when the number of predictor variables in a set exceeds the number of observations, or when a data set has multicollinearity (correlations between predictor variables).\n",
        "\n",
        "Lasso regression is a type of linear regression that uses shrinkage. Shrinkage is where data values are shrunk towards a central point, like the mean. This type is very useful when you have high levels of muticollinearity or when you want to automate certain parts of model selection, like variable selection/parameter elimination."
      ]
    },
    {
      "cell_type": "code",
      "metadata": {
        "colab": {
          "base_uri": "https://localhost:8080/"
        },
        "id": "7rU8-E_2wM2T",
        "outputId": "f4dcb117-8ea1-4373-d0c5-4a45108042cb"
      },
      "source": [
        "import pandas as pd\n",
        "import numpy as np\n",
        "import seaborn as sns\n",
        "import matplotlib.pyplot as plt\n",
        "from sklearn.model_selection import train_test_split\n",
        "from sklearn.metrics import r2_score\n",
        "from sklearn.linear_model import Ridge\n",
        "from sklearn.linear_model import Lasso\n",
        "from sklearn.linear_model import LinearRegression\n",
        "import statsmodels.api as sm"
      ],
      "execution_count": 1,
      "outputs": [
        {
          "output_type": "stream",
          "text": [
            "/usr/local/lib/python3.7/dist-packages/statsmodels/tools/_testing.py:19: FutureWarning: pandas.util.testing is deprecated. Use the functions in the public API at pandas.testing instead.\n",
            "  import pandas.util.testing as tm\n"
          ],
          "name": "stderr"
        }
      ]
    },
    {
      "cell_type": "code",
      "metadata": {
        "colab": {
          "base_uri": "https://localhost:8080/"
        },
        "id": "gPwnAc1jtYhb",
        "outputId": "5b266f80-cf5d-4ca0-e548-3e0f96b33c9b"
      },
      "source": [
        "# Ridge Regression\n",
        "\n",
        "wine_quality = pd.read_csv(\"/content/drive/MyDrive/Colab Notebooks/Data/winequality-red.csv\",sep=';')  \n",
        "wine_quality.rename(columns=lambda x: x.replace(\" \", \"_\"), inplace=True)\n",
        "\n",
        "all_colnms = ['fixed_acidity', 'volatile_acidity', 'citric_acid', 'residual_sugar',\n",
        " 'chlorides', 'free_sulfur_dioxide', 'total_sulfur_dioxide', 'density',\n",
        " 'pH', 'sulphates', 'alcohol']\n",
        "\n",
        "\n",
        "pdx = wine_quality[all_colnms]\n",
        "pdy = wine_quality[\"quality\"]\n",
        "\n",
        "x_train,x_test,y_train,y_test = train_test_split(pdx,pdy,train_size = 0.7,random_state=42)\n",
        "\n",
        "alphas = [1e-4,1e-3,1e-2,0.1,0.5,1.0,5.0,10.0]\n",
        "\n",
        "initrsq = 0\n",
        "\n",
        "print (\"\\nRidge Regression: Best Parameters\\n\")\n",
        "for alph in alphas:\n",
        "    ridge_reg = Ridge(alpha=alph) \n",
        "    ridge_reg.fit(x_train,y_train)    \n",
        "    tr_rsqrd = ridge_reg.score(x_train,y_train)\n",
        "    ts_rsqrd = ridge_reg.score(x_test,y_test)    \n",
        "\n",
        "    if ts_rsqrd > initrsq:\n",
        "        print (\"Lambda: \",alph,\"Train R-Squared value:\",round(tr_rsqrd,5),\"Test R-squared value:\",round(ts_rsqrd,5))\n",
        "        initrsq = ts_rsqrd\n",
        "\n",
        "# Coeffients of Ridge regression of best alpha value\n",
        "ridge_reg = Ridge(alpha=0.001) \n",
        "ridge_reg.fit(x_train,y_train) \n",
        " \n",
        "\n",
        "print (\"\\nRidge Regression coefficient values of Alpha = 0.001\\n\")\n",
        "for i in range(11):\n",
        "    print (all_colnms[i],\": \",ridge_reg.coef_[i])\n"
      ],
      "execution_count": 2,
      "outputs": [
        {
          "output_type": "stream",
          "text": [
            "\n",
            "Ridge Regression: Best Parameters\n",
            "\n",
            "Lambda:  0.0001 Train R-Squared value: 0.3612 Test R-squared value: 0.35135\n",
            "\n",
            "Ridge Regression coefficient values of Alpha = 0.001\n",
            "\n",
            "fixed_acidity :  0.015506587508043793\n",
            "volatile_acidity :  -1.1050982354876895\n",
            "citric_acid :  -0.2487986553235105\n",
            "residual_sugar :  0.004018895392835028\n",
            "chlorides :  -1.684383962086347\n",
            "free_sulfur_dioxide :  0.004636901710963127\n",
            "total_sulfur_dioxide :  -0.0032837679041055035\n",
            "density :  -5.567271746802898\n",
            "pH :  -0.362480017204004\n",
            "sulphates :  0.8009191228025629\n",
            "alcohol :  0.2999182442952101\n"
          ],
          "name": "stdout"
        }
      ]
    },
    {
      "cell_type": "code",
      "metadata": {
        "colab": {
          "base_uri": "https://localhost:8080/"
        },
        "id": "YuW27VyexIum",
        "outputId": "a1fef813-fe02-44bf-b22b-40ac4be8c428"
      },
      "source": [
        "# Lasso Regression\n",
        "from sklearn.linear_model import Lasso\n",
        "\n",
        "alphas = [1e-4,1e-3,1e-2,0.1,0.5,1.0,5.0,10.0]\n",
        "initrsq = 0\n",
        "print (\"\\nLasso Regression: Best Parameters\\n\")\n",
        "\n",
        "for alph in alphas:\n",
        "    lasso_reg = Lasso(alpha=alph) \n",
        "    lasso_reg.fit(x_train,y_train)    \n",
        "    tr_rsqrd = lasso_reg.score(x_train,y_train)\n",
        "    ts_rsqrd = lasso_reg.score(x_test,y_test)    \n",
        "\n",
        "    if ts_rsqrd > initrsq:\n",
        "        print (\"Lambda: \",alph,\"Train R-Squared value:\",round(tr_rsqrd,5),\"Test R-squared value:\",round(ts_rsqrd,5))\n",
        "        initrsq = ts_rsqrd\n",
        "\n",
        "# Coeffients of Lasso regression of best alpha value\n",
        "lasso_reg = Lasso(alpha=0.001) \n",
        "lasso_reg.fit(x_train,y_train) \n",
        "\n",
        "print (\"\\nLasso Regression coefficient values of Alpha = 0.001\\n\")\n",
        "for i in range(11):\n",
        "    print (all_colnms[i],\": \",lasso_reg.coef_[i])"
      ],
      "execution_count": 3,
      "outputs": [
        {
          "output_type": "stream",
          "text": [
            "\n",
            "Lasso Regression: Best Parameters\n",
            "\n",
            "Lambda:  0.0001 Train R-Squared value: 0.36101 Test R-squared value: 0.35057\n",
            "\n",
            "Lasso Regression coefficient values of Alpha = 0.001\n",
            "\n",
            "fixed_acidity :  0.014149546369062422\n",
            "volatile_acidity :  -1.0906236090493848\n",
            "citric_acid :  -0.18529515004737027\n",
            "residual_sugar :  -0.00013661024678723296\n",
            "chlorides :  -1.058775797041006\n",
            "free_sulfur_dioxide :  0.0048316481751489865\n",
            "total_sulfur_dioxide :  -0.0032672288559592293\n",
            "density :  -0.0\n",
            "pH :  -0.25690192587072963\n",
            "sulphates :  0.694487540316411\n",
            "alcohol :  0.3077561491242808\n"
          ],
          "name": "stdout"
        }
      ]
    }
  ]
}